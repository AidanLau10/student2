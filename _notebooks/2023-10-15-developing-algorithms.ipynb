{
 "cells": [
  {
   "cell_type": "markdown",
   "metadata": {},
   "source": [
    "---\n",
    "comments: true\n",
    "layout: post\n",
    "title: P1 Developing Algorithms\n",
    "description: Student Teaching Developing Algorithms\n",
    "courses: { labnb: {week: 8} }\n",
    "type: hacks\n",
    "---"
   ]
  },
  {
   "cell_type": "code",
   "execution_count": 1,
   "metadata": {},
   "outputs": [
    {
     "name": "stdout",
     "output_type": "stream",
     "text": [
      "Median: 96\n"
     ]
    }
   ],
   "source": [
    "# list of class grades\n",
    "class_grades = [65, 78, 79, 87, 94, 98, 95, 97, 96, 97, 96, 97, 100]\n",
    "\n",
    "# sort the list in ascending order\n",
    "class_grades.sort()\n",
    "\n",
    "#  calculate the median\n",
    "n = len(class_grades)\n",
    "\n",
    "if n % 2 == 0:\n",
    "    # ff the number of elements is even, the median is the average of the middle two elements\n",
    "    median_value = (class_grades[n // 2 - 1] + class_grades[n // 2]) / 2\n",
    "else:\n",
    "    # ff the number of elements is odd, the median is the middle element\n",
    "    median_value = class_grades[n // 2]\n",
    "\n",
    "print(\"Median:\", median_value)\n"
   ]
  },
  {
   "cell_type": "code",
   "execution_count": 32,
   "metadata": {},
   "outputs": [
    {
     "name": "stdout",
     "output_type": "stream",
     "text": [
      "heads\n",
      "You guessed incorrectly! It was tails!\n"
     ]
    }
   ],
   "source": [
    "import random\n",
    "\n",
    "# random number between 0 and 1\n",
    "random_number = random.randint(0,1)\n",
    "\n",
    "# gets user input for heads or tails and sets it to lower case to avoid and case issues\n",
    "user_guess = input('Heads or Tails? ').lower()\n",
    "\n",
    "# checks to see if user guess it same as computer's random number guess\n",
    "if random_number == 0 and user_guess == 'heads':\n",
    "    print('You guessed correctly! It was heads!')\n",
    "elif random_number == 0 and user_guess == 'tails':\n",
    "    print('You guess incorrectly! It was tails!')\n",
    "elif random_number == 1 and user_guess == 'tails':\n",
    "    print('You guessed correcly! It was tails!')\n",
    "elif random_number == 1 and user_guess == 'heads':\n",
    "    print('You guessed incorrectly! It was tails!')"
   ]
  },
  {
   "cell_type": "markdown",
   "metadata": {},
   "source": [
    "## "
   ]
  }
 ],
 "metadata": {
  "kernelspec": {
   "display_name": "Python 3 (ipykernel)",
   "language": "python",
   "name": "python3"
  },
  "language_info": {
   "codemirror_mode": {
    "name": "ipython",
    "version": 3
   },
   "file_extension": ".py",
   "mimetype": "text/x-python",
   "name": "python",
   "nbconvert_exporter": "python",
   "pygments_lexer": "ipython3",
   "version": "3.11.6"
  }
 },
 "nbformat": 4,
 "nbformat_minor": 4
}
