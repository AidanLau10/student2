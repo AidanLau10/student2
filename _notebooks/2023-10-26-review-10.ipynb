{
 "cells": [
  {
   "cell_type": "markdown",
   "metadata": {},
   "source": [
    "---\n",
    "title: Review of Week 10\n",
    "comments: true\n",
    "hide: true\n",
    "layout: post\n",
    "description: A review of what happened this week.\n",
    "courses: { labnb: {week: 10} }\n",
    "type: tangibles\n",
    "---"
   ]
  }
 ],
 "metadata": {
  "language_info": {
   "name": "python"
  },
  "orig_nbformat": 4
 },
 "nbformat": 4,
 "nbformat_minor": 2
}
