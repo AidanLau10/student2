{
 "cells": [
  {
   "cell_type": "markdown",
   "metadata": {},
   "source": [
    "---\n",
    "title: N@TM Blog\n",
    "comments: true\n",
    "hide: true\n",
    "layout: post\n",
    "description: Blog of my experience at N@TM\n",
    "courses: { labnb: {week: 23} }\n",
    "type: hacks\n",
    "---"
   ]
  },
  {
   "cell_type": "markdown",
   "metadata": {},
   "source": [
    "# Reflection\n",
    "\n",
    "- We have a good features but the look and styling of our frontend is very bad. Furthermore, we should've let the people explore the website themselves instead of us demo-ing for them. Lastly, I feel like we could've added a more appealing feature instead of something bland like posting and getting.\n",
    "\n",
    "# Feedback\n",
    "\n",
    "- Mr. Lopez suggested that we add a profiling system to our job app where employers can see which users applied to their job and which jobs users have applied to(and if they were accepted). We are going to use this feedback to create a profiling system.\n",
    "- Students suggested that we style the frontend because it is the same exact styling as the template. We're going to explore SASS more to change the styling of our frontend."
   ]
  },
  {
   "cell_type": "markdown",
   "metadata": {},
   "source": [
    "![Me At A Casino Sim Project](../../../images/me.png)\n",
    "![Nihar](../../../images/nihar.png)\n",
    "![Racecar Bet](../../../images/casinosim.jpeg)\n",
    "![Clash Royale](../../../images/cr.jpg)"
   ]
  },
  {
   "cell_type": "markdown",
   "metadata": {},
   "source": [
    "# Impressive CSP Project\n",
    "\n",
    "![Meme Image Generator](../../../images/memeCPT.jpeg)\n",
    "![Database Meme Image Generator](../../../images/databaseMeme.jpg)\n",
    "\n",
    "- This project of a meme image generator impressed me a lot. First, you input an image and then the text you want to display on the top and bottom and it will output your final meme with your preferred text. You can store your images in their database and clear them when you don't want them anymore. Dealing with images and storing them in a database is really hard; but, the fact that they take user input and change the image is really impressive."
   ]
  },
  {
   "cell_type": "markdown",
   "metadata": {},
   "source": [
    "# Impressive Ceramics Piece\n",
    "![Ceramics Pieces](../../../images/ceramics.jpg)\n",
    "\n",
    "- While looking around in ceramics, this piece really impressed me. I really like the holes and stacking of the same component over and over again. It looks like something the Romans or Greeks would make."
   ]
  }
 ],
 "metadata": {
  "language_info": {
   "name": "python"
  },
  "orig_nbformat": 4
 },
 "nbformat": 4,
 "nbformat_minor": 2
}
