{
 "cells": [
  {
   "cell_type": "markdown",
   "metadata": {},
   "source": [
    "---\n",
    "title: Skincare Products\n",
    "comments: true\n",
    "hide: true\n",
    "layout: post\n",
    "type: hacks\n",
    "permalink: /skincare/products\n",
    "---"
   ]
  },
  {
   "cell_type": "raw",
   "metadata": {},
   "source": [
    "{% include nav_skincare.html %}"
   ]
  },
  {
   "cell_type": "raw",
   "metadata": {},
   "source": [
    "<link rel=\"stylesheet\" href=\"/student2/assets/css/skincare-products.css\">\n",
    "\n",
    "<body>\n",
    "  <div>\n",
    "    <h1>Skincare Products</h1>\n",
    "    <p>Here are popular Korean skincare products! Navigate to the ingredients page to see their ingredient list.</p>\n",
    "  </div>\n",
    "\n",
    "  <div>\n",
    "    <p>Hover on the right or left side of an image to check out the next product!</p>\n",
    "  </div>\n",
    "\n",
    "  <div class=\"slideshow-container\">\n",
    "\n",
    "\n",
    "    <div class=\"mySlides fade\">\n",
    "      <div class=\"numbertext\">1 / 3</div>\n",
    "      <img src=\"/student2/images/snail-mucin.jpeg\" style=\"width:100%\">\n",
    "      <div class=\"text\">Snail Mucin Toner</div>\n",
    "    </div>\n",
    "\n",
    "    <div class=\"mySlides fade\">\n",
    "      <div class=\"numbertext\">2 / 3</div>\n",
    "      <img src=\"/student2/images/anua-heartleaf.jpeg\" style=\"width:100%\">\n",
    "      <div class=\"text\">Anua Heartleaf Toner</div>\n",
    "    </div>\n",
    "\n",
    "    <div class=\"mySlides fade\">\n",
    "      <div class=\"numbertext\">3 / 3</div>\n",
    "      <img src=\"/student2/images/glow-serum.jpg\" style=\"width:100%\">\n",
    "      <div class=\"text\">Beauty of Joseon Glow Serum</div>\n",
    "    </div>\n",
    "\n",
    "\n",
    "    <a class=\"prev\" onclick=\"plusSlides(-1)\">❮</a>\n",
    "    <a class=\"next\" onclick=\"plusSlides(1)\">❯</a>\n",
    "\n",
    "  </div>\n",
    "\n",
    "\n",
    "\n",
    "  <script src=\"/student2/assets/js/skincare-products.js\"></script>\n",
    "\n",
    "</body>"
   ]
  },
  {
   "cell_type": "code",
   "execution_count": null,
   "metadata": {
    "vscode": {
     "languageId": "javascript"
    }
   },
   "outputs": [],
   "source": [
    "// variable slideIndex that sets parameter of showSlides(n) to 1\n",
    "let slideIndex = 1;\n",
    "showSlides(slideIndex);\n",
    "\n",
    "// when user clicks on the left or right arrow, adds or subtracts 1 to the value of the slideIndex\n",
    "// and sets this value as the argument for the n parameter in the function showSlides\n",
    "function plusSlides(n) {\n",
    "    showSlides(slideIndex += n);\n",
    "}\n",
    "\n",
    "// function to show the current slide that takes n as a parameter\n",
    "function showSlides(n) {\n",
    "    // variable i with no value\n",
    "    let i;\n",
    "    // creates variable, slides, that gets all classes in html document with mySlides\n",
    "    let slides = document.getElementsByClassName(\"mySlides\");\n",
    "\n",
    "    // if parameter n is greater than the length of slides, set it equal to 1\n",
    "    if (n > slides.length) {\n",
    "        slideIndex = 1\n",
    "    }\n",
    "    // if n is less than 1, set slide index equal to slides length(3)\n",
    "    if (n < 1) {\n",
    "        slideIndex = slides.length\n",
    "    }\n",
    "    // for loop will hide ALL slides\n",
    "    for (i = 0; i < slides.length; i++) {\n",
    "        slides[i].style.display = \"none\";\n",
    "    }\n",
    "\n",
    "    // will show the slide that you want \n",
    "    slides[slideIndex - 1].style.display = \"block\";\n",
    "    // console.log(n, slideIndex - 1);\n",
    "}\n",
    "\n",
    "\n",
    "\n"
   ]
  }
 ],
 "metadata": {
  "language_info": {
   "name": "python"
  },
  "orig_nbformat": 4
 },
 "nbformat": 4,
 "nbformat_minor": 2
}
