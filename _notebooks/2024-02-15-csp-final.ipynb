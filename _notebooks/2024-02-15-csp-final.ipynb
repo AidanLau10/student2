{
 "cells": [
  {
   "cell_type": "markdown",
   "metadata": {},
   "source": [
    "---\n",
    "title: CSP Final, N@tM Retrospective\n",
    "comments: true\n",
    "hide: true\n",
    "layout: post\n",
    "description: Individual blog of CPT project\n",
    "courses: { labnb: {week: 23} }\n",
    "type: hacks\n",
    "---"
   ]
  },
  {
   "cell_type": "markdown",
   "metadata": {},
   "source": [
    "# Design\n",
    "\n",
    "- Here is the planning process and design of our CPT project\n",
    "\n",
    "![Jobly Homepage](../../../images/jobly.png)\n",
    "![Jobly Jobs List](../../../images/joblyDisplay.png)\n",
    "![Jobly Post Job](../../../images/joblyPost.png)\n",
    "![Jobly draw.io UML Class Diagram](../../../images/joblydrawIO.png)\n"
   ]
  },
  {
   "cell_type": "markdown",
   "metadata": {},
   "source": [
    "# Correlation to CPT\n",
    "\n",
    "- These are the College Board CPT requirements\n",
    "\n",
    "![CPT Requirements](../../../images/cptRequirements.png)\n",
    "\n",
    "Our project checks all the CPT criteria because:\n",
    "\n",
    "- When the website takes input from the user, they are instructed with text. For example, when they [create their account](https://aidanlau10.github.io/joblyFrontend/usertype/), they are asked if they are looking for a job or employing people. Furthermore, when they [post a job](https://aidanlau10.github.io/joblyFrontend/postjob/) (you may not be able to see it because only employers can so you need to create an account), they are instructed to fill out the form to receive applicants.\n",
    "\n",
    "- "
   ]
  },
  {
   "cell_type": "markdown",
   "metadata": {},
   "source": [
    "# Code Commits \n",
    "\n",
    "- Here are my commits that show my contribution to the project\n",
    "\n",
    "Frontend\n",
    "\n",
    "1. [Display jobs, post jobs, and show specific jobs](https://github.com/AidanLau10/joblyFrontend/commit/06ec278e0913f539b5f4dc6fb9c53b7953ddc841)\n",
    "2. [Display how many users applied to the job](https://github.com/AidanLau10/joblyFrontend/commit/3dade6ea96fe4ffd6bd96b6c4425d97f6454a8f8)\n",
    "3. [Apply for a job](https://github.com/AidanLau10/joblyFrontend/commit/f9eeba90d6fbb2c4eaefe819e08d3e3dadbf832c#diff-171948751df64adbc15925a4c8fd1d6740f8f6d58fb6f5da0d646f212d02b02fR121)\n",
    "\n",
    "Backend\n",
    "\n",
    "1. [Added a job api and job user association table](https://github.com/AidanLau10/joblyBackend/commit/6f6984ea53da59b9c954063bdb3bda726d90efab)\n",
    "2. [Added endpoint that shows how many users applied for a certain job](https://github.com/AidanLau10/joblyBackend/commit/b38700513046261a7e7141426e50a59fa1698fdc)\n",
    "3. [Track the user applicant](https://github.com/AidanLau10/joblyBackend/commit/770606a8798c1297ac47650dec7acf00ac416080)\n",
    "\n",
    "Deployed site\n",
    "\n",
    "- I deployed the site [here](https://jobly.stu.nighthawkcodingsociety.com/)"
   ]
  },
  {
   "cell_type": "markdown",
   "metadata": {},
   "source": [
    "# 1 Minute Feature Demo\n",
    "\n",
    "- View my demo of my feature [here](https://youtu.be/r5ufilXopTA)\n",
    "or...\n",
    "\n",
    "<video controls>\n",
    "  <source src=\"../../../images/cptDemo.mp4\" type=\"video/mp4\">\n",
    "  Your browser does not support the video tag.\n",
    "</video>\n",
    "\n",
    "\n",
    "\n"
   ]
  }
 ],
 "metadata": {
  "language_info": {
   "name": "python"
  },
  "orig_nbformat": 4
 },
 "nbformat": 4,
 "nbformat_minor": 2
}
