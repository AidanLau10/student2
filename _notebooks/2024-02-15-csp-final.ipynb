{
 "cells": [
  {
   "cell_type": "markdown",
   "metadata": {},
   "source": [
    "---\n",
    "title: CSP Final, N@tM Retrospective\n",
    "comments: true\n",
    "hide: true\n",
    "layout: post\n",
    "description: Individual blog of CPT project\n",
    "courses: { labnb: {week: 23} }\n",
    "type: hacks\n",
    "---"
   ]
  },
  {
   "cell_type": "markdown",
   "metadata": {},
   "source": [
    "# What is our project about?\n",
    "\n",
    "- Our project is like Indeed in the sense that it connects employers and freelancers. Employers can post jobs and applicants can apply to those jobs. The goal of our project is to fit the needs of employers when finding applicants and help applicants find jobs. We make communication between employers and freelancers easy.\n",
    "\n",
    "\n",
    "# How did I contribute to our project?\n",
    "\n",
    "- Since our goal as a job connector is to let employers post jobs and users apply to those jobs, I made the api that allows employers to POST a job and users APPY/POST to those jobs. Furthermore, I made the users, applications, jobs, and relationship between jobs and users tables that involve differentiating users between Employers and Freelancers, tracking applications from freelancers so employers can view them, and creating and updating jobs.\n",
    "![Users database](../../../images/usersDb.png)\n",
    "![Jobs database](../../../images/jobsDb.png)\n",
    "![JobsUsers database](../../../images/jobsusersDb.png)\n",
    "![Applications database](../../../images/applicationsDb.png)"
   ]
  },
  {
   "cell_type": "markdown",
   "metadata": {},
   "source": [
    "# Contribution Commits\n",
    "\n",
    "- I deployed the site [here](https://jobly.stu.nighthawkcodingsociety.com/)\n",
    "\n",
    "- Here are my commits that show my contribution to the project\n",
    "\n",
    "Frontend\n",
    "![Frontend Commits](../../../images/frontendCommits.png)\n",
    "1. [Display jobs, post jobs, and show specific jobs](https://github.com/AidanLau10/joblyFrontend/commit/06ec278e0913f539b5f4dc6fb9c53b7953ddc841)\n",
    "2. [Display how many users applied to the job](https://github.com/AidanLau10/joblyFrontend/commit/3dade6ea96fe4ffd6bd96b6c4425d97f6454a8f8)\n",
    "3. [Apply for a job](https://github.com/AidanLau10/joblyFrontend/commit/f9eeba90d6fbb2c4eaefe819e08d3e3dadbf832c#diff-171948751df64adbc15925a4c8fd1d6740f8f6d58fb6f5da0d646f212d02b02fR121)\n",
    "4. [View applications](https://github.com/AidanLau10/joblyFrontend/commit/95e9fc442cbc1d07c9863167847a6b22776c447e)\n",
    "5. [Edit job](https://github.com/AidanLau10/joblyFrontend/commit/7f8a74437409800941e45ca92cedf40c553a8a63)\n",
    "6. [View applicants](https://github.com/AidanLau10/joblyFrontend/commit/fb35192080bd9653d5e9e649196a09754ca9eec9)\n",
    "7. [User profile](https://github.com/AidanLau10/joblyFrontend/commit/276cf83beea1b7570f46ad1e9bd04a4332fef832)\n",
    "\n",
    "Backend\n",
    "![Frontend Commits](../../../images/backendCommits.png)\n",
    "1. [Added a job api and job user association table](https://github.com/AidanLau10/joblyBackend/commit/6f6984ea53da59b9c954063bdb3bda726d90efab)\n",
    "2. [Added endpoint that shows how many users applied for a certain job](https://github.com/AidanLau10/joblyBackend/commit/b38700513046261a7e7141426e50a59fa1698fdc)\n",
    "3. [Track the user applicant](https://github.com/AidanLau10/joblyBackend/commit/770606a8798c1297ac47650dec7acf00ac416080)\n",
    "4. [Submit, view, and edit application](https://github.com/AidanLau10/joblyBackend/commit/57ee05ad6418490c6f80c4ba8983496831243df0)\n",
    "5. [Update job](https://github.com/AidanLau10/joblyBackend/commit/aad581f42fc585ce45b0f83708fe34fd2e13ca31)\n",
    "\n"
   ]
  },
  {
   "cell_type": "markdown",
   "metadata": {},
   "source": [
    "# Design\n",
    "\n",
    "- Here is the planning process and design of our CPT project\n",
    "\n",
    "![Jobly Homepage](../../../images/jobly.png)\n",
    "![Jobly Jobs List](../../../images/joblyDisplay.png)\n",
    "![Jobly Post Job](../../../images/joblyPost.png)\n",
    "![Jobly draw.io UML Class Diagram](../../../images/joblydrawIO.png)\n"
   ]
  },
  {
   "cell_type": "markdown",
   "metadata": {},
   "source": [
    "# Correlation to CPT\n",
    "\n",
    "- These are the College Board CPT requirements\n",
    "\n",
    "![CPT Requirements](../../../images/cptRequirements.png)\n",
    "\n",
    "Our project checks all the CPT criteria because:\n",
    "\n",
    "- When the website takes input from the user, they are instructed with text. For example, when they [create their account](https://aidanlau10.github.io/joblyFrontend/usertype/), they are asked if they are looking for a job or employing people. Furthermore, when they [post a job](https://aidanlau10.github.io/joblyFrontend/postjob/) (you may not be able to see it because only employers can so you need to create an account), they are instructed to fill out the form to receive applicants.\n",
    "\n",
    "- A collection type that we use to store data is a dictionary when sending data to the backend. Dictionaries have key/value pairs which are important when using dynamic values that can be set to keys that the backend expects. For example,\n",
    "const userData = {\n",
    "                title: title,\n",
    "                company: company,\n",
    "                description: description,\n",
    "                qualification: qualification,\n",
    "                pay: pay,\n",
    "                field: field,\n",
    "                location: location \n",
    "            };\n",
    "This dictionary takes user input for title, company, qualification, pay, field, and location and sends it to the backend.\n",
    "\n",
    "- The procedure below, getCookie() returns the value of the cookie, or nothing if the argument passed isn't a cookie, and takes one parameter which is the desired extracted cookie.\n",
    "- The algorithm iterates through an array of cookie strings, removes leading spaces from each string, and checks if any of them start with a specified cookie name. If it finds a match, it extracts and returns the value of that cookie. If no match is found, it returns an empty string.\n",
    "- The getCookie procedure is called with \"userid\" as the argument so that we can get the value of userid.\n",
    "\n",
    "- Output is visual as the user can see what they inputted"
   ]
  },
  {
   "cell_type": "code",
   "execution_count": null,
   "metadata": {
    "vscode": {
     "languageId": "javascript"
    }
   },
   "outputs": [],
   "source": [
    "function getCookie(cname) {\n",
    "    var name = cname + \"=\";\n",
    "    var decodedCookie = decodeURIComponent(document.cookie);\n",
    "    var ca = decodedCookie.split(';');\n",
    "    for(var i = 0; i <ca.length; i++) {\n",
    "      var c = ca[i];\n",
    "      while (c.charAt(0) == ' ') {\n",
    "        c = c.substring(1);\n",
    "      }\n",
    "      if (c.indexOf(name) == 0) {\n",
    "        return c.substring(name.length, c.length);\n",
    "      }\n",
    "    }\n",
    "    return \"\";\n",
    "  }\n",
    "\n",
    "  userid = getCookie(\"userid\");"
   ]
  },
  {
   "cell_type": "markdown",
   "metadata": {},
   "source": [
    "- I asked ChatGPT to explain it better\n",
    "\n",
    "![getCookie explanation](../../../images/getCookie.png)"
   ]
  }
 ],
 "metadata": {
  "language_info": {
   "name": "python"
  },
  "orig_nbformat": 4
 },
 "nbformat": 4,
 "nbformat_minor": 2
}
