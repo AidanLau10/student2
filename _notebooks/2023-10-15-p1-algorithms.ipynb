{
 "cells": [
  {
   "cell_type": "markdown",
   "metadata": {},
   "source": [
    "---\n",
    "comments: true\n",
    "layout: post\n",
    "title: P1 Algorithms\n",
    "description: Student Teaching Algorithms\n",
    "courses: { labnb: {week: 7} }\n",
    "type: hacks\n",
    "---"
   ]
  },
  {
   "cell_type": "code",
   "execution_count": 1,
   "metadata": {},
   "outputs": [
    {
     "name": "stdout",
     "output_type": "stream",
     "text": [
      "The input is a palindrome.\n"
     ]
    }
   ],
   "source": [
    "# ask user for input\n",
    "user_input = input(\"Enter a string: \")\n",
    "\n",
    "def is_palindrome(input_str):\n",
    "    # takes the input and takes out any spaces and makes it lower case for case-sensitive\n",
    "    input_str = input_str.replace(\" \", \"\").lower()\n",
    "\n",
    "    # compare the string with its reverse\n",
    "    return input_str == input_str[::-1]\n",
    "\n",
    "# takes parameter, user_input which is the string the user put and the function is_palindrome takes it as an argument\n",
    "if is_palindrome(user_input):\n",
    "    print(\"The input is a palindrome.\")\n",
    "else:\n",
    "    print(\"The input is not a palindrome.\")"
   ]
  },
  {
   "cell_type": "code",
   "execution_count": 2,
   "metadata": {},
   "outputs": [
    {
     "name": "stdout",
     "output_type": "stream",
     "text": [
      "Sorted names:\n",
      "Aidan\n",
      "Daniel\n",
      "Nathan\n",
      "Rayyan\n"
     ]
    }
   ],
   "source": [
    "# sorting function to sort a list of names alphabetically\n",
    "def sort_names(names):\n",
    "    sorted_names = sorted(names)\n",
    "    return sorted_names\n",
    "\n",
    "# list of names\n",
    "name_list = []\n",
    "# loop to add user input of names to name_list\n",
    "while True:\n",
    "    name = input(\"Enter a name (or 'done' to finish): \")\n",
    "    # if user types done. break the loop\n",
    "    if name.lower() == \"done\":\n",
    "        break\n",
    "    # add the user input name to name_list list\n",
    "    name_list.append(name)\n",
    "\n",
    "# sort the list of names using the sorting function\n",
    "sorted_names = sort_names(name_list)\n",
    "\n",
    "# display the sorted list of names\n",
    "print(\"Sorted names:\")\n",
    "for name in sorted_names:\n",
    "    print(name)"
   ]
  },
  {
   "cell_type": "markdown",
   "metadata": {},
   "source": [
    "## "
   ]
  }
 ],
 "metadata": {
  "kernelspec": {
   "display_name": "Python 3 (ipykernel)",
   "language": "python",
   "name": "python3"
  },
  "language_info": {
   "codemirror_mode": {
    "name": "ipython",
    "version": 3
   },
   "file_extension": ".py",
   "mimetype": "text/x-python",
   "name": "python",
   "nbconvert_exporter": "python",
   "pygments_lexer": "ipython3",
   "version": "3.11.6"
  }
 },
 "nbformat": 4,
 "nbformat_minor": 4
}
