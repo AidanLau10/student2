{
 "cells": [
  {
   "cell_type": "markdown",
   "metadata": {},
   "source": [
    "---\n",
    "comments: True\n",
    "layout: post\n",
    "toc: True\n",
    "title: Beneficial and Harmful Effects Team Teach\n",
    "description: Team Teach\n",
    "type: hacks\n",
    "courses: { labnb: { week: 15 } }\n",
    "---"
   ]
  },
  {
   "cell_type": "markdown",
   "metadata": {},
   "source": [
    "# 5.1 Beneficial and harmful effects \n",
    "\n",
    "## Beneficial and Harmful Effects of Technological Innovations\n",
    "\n",
    "- People are the driving force behind creating computing innovations.\n",
    "\n",
    "- Innovations are crafted with specific goals in mind. But they can have unforeseen consequences, both positive and negative.\n",
    "\n",
    "- A creator cant predict all the things that can be done with their innovation as there are so many things that could be done and as technology evolves, new uses are made\n",
    "\n",
    "<img src=\"https://i.ibb.co/rt82dN1/image-1.png\" alt=\"image-1\">"
   ]
  },
  {
   "cell_type": "markdown",
   "metadata": {},
   "source": [
    "# Dopamine\n",
    "\n",
    "## Postives\n",
    "- Social Connection: Social media platforms allow people to connect with friends and family, especially those who may be geographically distant. It facilitates communication, sharing of experiences, and staying updated on each other's lives.\n",
    "\n",
    "- Learning Opportunities: Many video games are designed to be educational and can enhance cognitive skills such as problem-solving, strategic thinking, and hand-eye coordination. Some games even incorporate historical or scientific elements, providing players with additional knowledge.\n",
    "\n",
    "- Creativity: Video games often stimulate creativity and imagination. Games with open-world exploration or creative building elements encourage players to think outside the box and express themselves in unique ways.\n",
    "\n",
    "- Community Building: Both video games and social media can foster a sense of community. Gamers often form online communities where they share tips, strategies, and experiences. Social media also allows people with common interests to connect and form communities.\n",
    "\n",
    "## Negatives\n",
    "\n",
    "- Anthony Rosner story.\n",
    "- Played up to 18 hours every single day and became extremely succesfull in world of warcraft but suffered in every other aspect of his life: school and relationships\n",
    "- Eventually quit gaming, became a succesful DJ, and created a documentary.\n"
   ]
  },
  {
   "cell_type": "markdown",
   "metadata": {},
   "source": [
    "# Example Beneficial and Corresponding Harmful Effects of Computing\n",
    "\n",
    "> Tik Tok\n",
    "- Postive: Platform for people to share their creativity and talents\n",
    "- Negative: \"Doom Scrolling\"\n",
    "\n",
    "\n",
    "<img src=\"https://i.ibb.co/7ysbjqD/image-2.png\" alt=\"image-2\">"
   ]
  },
  {
   "cell_type": "markdown",
   "metadata": {},
   "source": [
    "### Popcorn Hack 1\n",
    "\n",
    "What is an example of a computing innovation with unintended consequences, whether positive or negative?\n",
    "\n",
    "- ANSWER\n"
   ]
  },
  {
   "cell_type": "markdown",
   "metadata": {},
   "source": [
    "\n",
    "## Mitigating Risks/Responsiblity\n",
    "\n",
    "- Targeted advertising, machine learning, and data mining are all good exampels of how unintended uses can have both positive and negative effecs\n",
    "\n",
    "- Even though it is impossible to predict all possibilities, a responsible programmer's goal it to forsee and prevent any unintended/negative uses and effects\n",
    "\n",
    "- Rapid sharing of a program can lead to events outside the creators control\n",
    "\n"
   ]
  },
  {
   "cell_type": "markdown",
   "metadata": {},
   "source": [
    "### Popcorn Hack 2\n",
    "\n",
    "How can responsible programming help contribute to minimizing unintended harmful impacts?\n",
    "\n",
    "- ANSWER\n",
    "\n"
   ]
  },
  {
   "cell_type": "markdown",
   "metadata": {},
   "source": [
    "## Finding Balance\n",
    "\n",
    "- Finding a balance between innovation and responsibility is important\n",
    "\n",
    "- Programmers shape the impact of their creations on society.\n",
    "\n",
    "- Unintended uses of innovations may potentiallyhave harmful impacts on society\n",
    "\n",
    "- While negative effects could occur, Innovations often bring unintended benefits by helping advance the current states of technology.\n",
    "\n",
    "<img src=\"https://i.ibb.co/sRXLQp4/image-5.png\" alt=\"image-5\">\n"
   ]
  },
  {
   "cell_type": "markdown",
   "metadata": {},
   "source": [
    "### Popcorn Hack 3\n",
    "Why is it important for programmers to consider the unintended consequences of their innovations? \n",
    "- ANSWER\n",
    "\n"
   ]
  },
  {
   "cell_type": "markdown",
   "metadata": {},
   "source": [
    "### Bonus Hack(0.05 extra points)\n",
    "Self Reflect on your use of technology? Whats your daily screen time? What beneficial effects of technology do you utilize and what are some negative consequences you succcumb to?\n",
    "- My daily screen time is like 6 hours. I use technology to learn new stuff like history and any coding videos. I really like watching informative YouTube videos to learn about stuff. However, most of the time, I scroll for too long and waste my time. \n",
    "\n"
   ]
  },
  {
   "cell_type": "markdown",
   "metadata": {},
   "source": [
    "### Homework\n",
    "- Choose an innovation(Social media, computers, phones, etc.) and talk about an alternative use than what its actually use for. Then, give the potential positive and negative impacts of the use you came up with\n",
    "\n",
    "> - For social media like tik tok, people mainly use them to post and share videos, view other videos, make friends, and watch entertaining stuff. However, other people like me also use them to learn about topics in a quick manner. Tik tok usually has short videos so learning topics is very fast and easy. All the resources are free too.\n",
    "\n",
    "> - Pros\n",
    "    - Learning \n",
    "    - Quick and concise\n",
    "    - Free\n",
    "> - Cons\n",
    "    - One con could be that instead of using tik tok to learn, I get stuck in the scrolling cycle.\n",
    "\n",
    "- How might you as a programmer implement code that helps your program have less unintented risks.\n",
    "\n",
    "> - For our team's binary project, our feature involves asking the user questions. It's important to have the questions not be mean and kind of backhanded. For example, I wouldn't ask the user if they took a shower because if they didn't then they wouldn't feel comfortable. Besides decreasing the risks of anything involving the user, it's important to add error handling, validation, and security to make sure any important data isn't leaked. For example, if you have a database of user passwords and sensitive data, you should encrypt it and use validation to make sure people don't steal data.\n"
   ]
  }
 ],
 "metadata": {
  "language_info": {
   "name": "python"
  }
 },
 "nbformat": 4,
 "nbformat_minor": 2
}
