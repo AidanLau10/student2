{
 "cells": [
  {
   "cell_type": "markdown",
   "metadata": {},
   "source": [
    "---\n",
    "title: Skincare Data Types\n",
    "comments: true\n",
    "hide: true\n",
    "layout: post\n",
    "permalink: /skincare/datatypes\n",
    "---"
   ]
  },
  {
   "cell_type": "raw",
   "metadata": {},
   "source": [
    "{% include nav_skincare.html %}"
   ]
  },
  {
   "cell_type": "raw",
   "metadata": {},
   "source": [
    "<script src=\"/student2/assets/js/skincare-datatype.js\"></script>"
   ]
  },
  {
   "cell_type": "code",
   "execution_count": null,
   "metadata": {
    "vscode": {
     "languageId": "javascript"
    }
   },
   "outputs": [],
   "source": [
    "// object of my name, age, classes, interests, travel, skincare products, and budget\n",
    "var aidan = {\n",
    "  name: \"Aidan\",\n",
    "  age: 15,\n",
    "  classes:[\"AP CSP\", \"Chinese\", \"AP Calc\", \"English\", \"AP Bio\"],\n",
    "  interests:[\"Video Games\", \"Skincare\", \"Music\"],\n",
    "  travel:[\"Japan\", \"Korea\", \"Hong Kong\", \"Taiwan\"],\n",
    "  skincareProducts: 10,\n",
    "  budget: 94.76,\n",
    "  male: true,\n",
    "};\n",
    "\n",
    "// print object\n",
    "console.log(aidan);\n",
    "\n",
    "// adding more values to the array\n",
    "aidan.classes.push(\"Online World History\");\n",
    "aidan.interests.push(\"Programming\");\n",
    "console.log(aidan);\n",
    "console.log(aidan.classes);\n",
    "console.log(aidan.interests);\n",
    "\n",
    "// mathematical calculation to calculate budget after spending money on two more products\n",
    "console.log('I want to buy 2 more skincare products, each costing 10 dollars each, how much money will I have after that?');\n",
    "const costPerSkincareProduct = 10;\n",
    "const numberOfSkincareProducts = 2;\n",
    "aidan.budget -= costPerSkincareProduct * numberOfSkincareProducts;\n",
    "aidan.skincareProducts += numberOfSkincareProducts;\n",
    "console.log(`After buying ${numberOfSkincareProducts} more skincare products, I will have ${aidan.budget} dollars left.`);\n",
    "console.log(`I will have ${aidan.skincareProducts} skincare products are buying 2 more`);\n",
    "\n",
    "// print type of datatype \n",
    "console.log(`The datatype of the classes array is an ${typeof aidan.classes}`);\n",
    "console.log(`The datatype of skincareProducts is a ${typeof aidan.skincareProducts}`);\n",
    "console.log(`The datatype of budget is a ${typeof aidan.budget}`);\n",
    "console.log(`The datatype of male is ${typeof aidan.male}`);"
   ]
  },
  {
   "cell_type": "raw",
   "metadata": {},
   "source": [
    "<p>Here is the output of the code to the console.</p>\n",
    "<img src=\"/student2/images/skincare-datatype.png\">\n"
   ]
  }
 ],
 "metadata": {
  "language_info": {
   "name": "python"
  },
  "orig_nbformat": 4
 },
 "nbformat": 4,
 "nbformat_minor": 2
}
