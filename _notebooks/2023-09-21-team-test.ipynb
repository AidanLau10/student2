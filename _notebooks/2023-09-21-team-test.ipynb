{
 "cells": [
  {
   "cell_type": "markdown",
   "metadata": {},
   "source": [
    "---\n",
    "title: Team Test\n",
    "comments: true\n",
    "hide: true\n",
    "layout: post\n",
    "description: Program Function and Purpose\n",
    "categories: [C7.0]\n",
    "courses: { labnb: {week: 5} }\n",
    "type: hacks\n",
    "---"
   ]
  },
  {
   "cell_type": "code",
   "execution_count": 2,
   "metadata": {},
   "outputs": [
    {
     "name": "stdout",
     "output_type": "stream",
     "text": [
      "Here is a list of some popular video games!\n",
      "Valorant\n",
      "Apex legends\n",
      "Fortnite\n",
      "League of Legends\n",
      "Roblox\n"
     ]
    },
    {
     "name": "stdout",
     "output_type": "stream",
     "text": [
      "What is your favorite video game?  Valorant\n"
     ]
    },
    {
     "name": "stdout",
     "output_type": "stream",
     "text": [
      "You are class!\n",
      "But what is my K/D ratio and FK/FD ratio?\n",
      "My K/D ration is:  2.0\n",
      "Im a good player! I can get 1 kill for every death!\n",
      "My FK/FD ratio is:  3.0\n",
      "Im so good at getting the first kill in the round and not dying first!\n",
      "What about my headshot to legshot ratio?\n",
      "Could not find the heashot to legshot ratio. Error: division by zero\n"
     ]
    }
   ],
   "source": [
    "# list of video games\n",
    "video_games = [\"Valorant\", \"Apex legends\", \"Fortnite\", \"League of Legends\", \"Roblox\"]\n",
    "\n",
    "# iteration to list the video games to eventually take user input\n",
    "print(\"Here is a list of some popular video games!\")\n",
    "for game in video_games:\n",
    "    print(game)\n",
    "    \n",
    "# user input\n",
    "favorite_game = input(\"What is your favorite video game? \")\n",
    "\n",
    "# if/else statements depending on the input of user\n",
    "if favorite_game == \"Valorant\":\n",
    "    print(\"You are class!\")\n",
    "elif favorite_game == \"Apex Legends\":\n",
    "    print(\"That game is not good!!\")\n",
    "elif favorite_game == \"Fortnite\":\n",
    "    print(\"That game used to be good.\")\n",
    "elif favorite_game == \"League of Legends\":\n",
    "    print(\"Please stop playing that game.\")\n",
    "else:\n",
    "    print(\"Alright game.\")\n",
    "\n",
    "# dictionary for my stats \n",
    "my_stats = {\n",
    "    \"best_agent\": \"omen\",\n",
    "    \"adr\": 178.8,\n",
    "    \"kills\": 26,\n",
    "    \"deaths\": 13,\n",
    "    \"first_kills\": 3,\n",
    "    \"first_deaths\": 1,\n",
    "    \"hs_percent\": 25,\n",
    "    \"leg_percent\": 0,\n",
    "}\n",
    "\n",
    "# selection/condition and mathematical expressions to calculate kd and fk/fd ratio from dictionary\n",
    "print(\"But what is my K/D ratio and FK/FD ratio?\")\n",
    "kd = my_stats[\"kills\"] / my_stats[\"deaths\"]\n",
    "print(\"My K/D ration is: \", kd)\n",
    "if kd > 1:\n",
    "    print(\"Im a good player! I can get 1 kill for every death!\")\n",
    "elif kd < 1:\n",
    "    print(\"I'm so bad. I can't even get a kill for every death.\")\n",
    "   \n",
    "\n",
    "fkfd = my_stats[\"first_kills\"] / my_stats[\"first_deaths\"]\n",
    "print(\"My FK/FD ratio is: \", fkfd)\n",
    "if fkfd > 1:\n",
    "    print(\"Im so good at getting the first kill in the round and not dying first!\")\n",
    "elif fkfd < 1:\n",
    "    print(\"I die first in the round more times than I'm able to get the first kill!\")\n",
    "\n",
    "print(\"What about my headshot to legshot ratio?\")\n",
    "\n",
    "# tester function to test zerodivison and value errors\n",
    "def test_my_stats(stats):\n",
    "    try:\n",
    "        hs_leg_percent = my_stats[\"hs_percent\"] / my_stats[\"leg_percent\"]\n",
    "    except ZeroDivisionError as e:\n",
    "        print(f\"Could not find the heashot to legshot ratio. Error: {e}\")\n",
    "    if stats[\"adr\"] < 0 or stats[\"kills\"] < 0 or stats[\"deaths\"] < 0:\n",
    "            raise ValueError(\"The ADR, kills, and death values should not be negative\")    \n",
    "\n",
    "test_my_stats(my_stats)                                        "
   ]
  },
  {
   "cell_type": "code",
   "execution_count": null,
   "metadata": {},
   "outputs": [],
   "source": []
  }
 ],
 "metadata": {
  "kernelspec": {
   "display_name": "Python 3 (ipykernel)",
   "language": "python",
   "name": "python3"
  },
  "language_info": {
   "codemirror_mode": {
    "name": "ipython",
    "version": 3
   },
   "file_extension": ".py",
   "mimetype": "text/x-python",
   "name": "python",
   "nbconvert_exporter": "python",
   "pygments_lexer": "ipython3",
   "version": "3.11.5"
  }
 },
 "nbformat": 4,
 "nbformat_minor": 4
}
