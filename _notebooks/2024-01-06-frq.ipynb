{
 "cells": [
  {
   "cell_type": "markdown",
   "metadata": {},
   "source": [
    "---\n",
    "title: Practice FRQ\n",
    "comments: true\n",
    "hide: true\n",
    "layout: post\n",
    "description: Practice FRQ Checklist \n",
    "courses: { labnb: {week: 18} }\n",
    "type: hacks\n",
    "---"
   ]
  },
  {
   "cell_type": "markdown",
   "metadata": {},
   "source": [
    "# Question 1"
   ]
  },
  {
   "cell_type": "markdown",
   "metadata": {},
   "source": [
    "# Component A\n",
    "\n",
    "- The code below is from the binary project that takes the user's input and uses logic gates to evaluate their input to produce an emoji output.\n",
    "\n",
    "- It can be viewed here:\n",
    "[Logic Gates With Emojis](https://aidanlau10.github.io/projecttri2//2023/11/16/logic-emojis_IPYNB_2_.html)"
   ]
  },
  {
   "cell_type": "markdown",
   "metadata": {},
   "source": [
    "- I receive the input of the user by performing a function whenever the user clicks on the \"Run Logic\" button. This function will take the values of the user input and evaluate them to produce an emoji output\n",
    "- My program doesn't get any list or collection type but I individually take the values of the data inputted by the user. For example, I have 3 different questions, each with a true or false value(0 or 1 binary). Depending on what the user answers to the question, I grab the value of the data and evaluate "
   ]
  },
  {
   "cell_type": "code",
   "execution_count": null,
   "metadata": {
    "vscode": {
     "languageId": "javascript"
    }
   },
   "outputs": [],
   "source": [
    "function getSelectedValue(options) {\n",
    "    for (var i = 0; i < options.length; i++) {\n",
    "      if (options[i].checked) {\n",
    "        return options[i].value;\n",
    "      }\n",
    "    }\n",
    "    // returns a default value or handle the case where no radio button is selected\n",
    "    return undefined;\n",
    "  }"
   ]
  },
  {
   "cell_type": "markdown",
   "metadata": {},
   "source": [
    "- The procedure, getSelectedValue, takes the questions input as a parameter and will return either a string value of \"true\" or \"false\" or undefined if the radio button isn't selected.\n",
    "- Inside the procedure, getSelectedValue, there is an algorithm that performs sequencing(order of things) by performing the for loop for every option before the if statement of checking if the option is checked. Selection occurs in the algorthm because it is specifically checking each question and if one is selected. Lastly, the algorithm performs iteration because there is a for and if loop so it is a repeated process for each question. \n",
    "- This procedure and algorithm is called when creating variables to check the values for each question"
   ]
  },
  {
   "cell_type": "markdown",
   "metadata": {},
   "source": [
    "- Here are the instructions if you go to the website:\n",
    "    - Input your answers to the questions and see the emojis that correspond to your mood for that day. Best completed if you talk about your prevous day."
   ]
  },
  {
   "cell_type": "markdown",
   "metadata": {},
   "source": [
    "- The output is visual because it will show an emoji of how the use is feeling depending on what they inputted "
   ]
  },
  {
   "cell_type": "code",
   "execution_count": null,
   "metadata": {
    "vscode": {
     "languageId": "html"
    }
   },
   "outputs": [],
   "source": [
    "<html>\n",
    "<head>\n",
    "  <title>Logic Gates With Emojis</title>\n",
    "  <style>\n",
    "    .gates {\n",
    "      width: 100%; \n",
    "      height: 400px; \n",
    "    }\n",
    "  </style>\n",
    "</head>\n",
    "<body>\n",
    "  <table>\n",
    "    <tr>\n",
    "      <th colspan=\"3\">\n",
    "        Input your answers to the questions and see the emojis that correspond to your mood for that day. Best completed if you talk about your prevous day.\n",
    "      </th>\n",
    "    </tr>\n",
    "    <tr>\n",
    "      <th>Questions</th>\n",
    "      <th>Circuit Diagram</th>\n",
    "      <th>Output</th>\n",
    "    </tr>\n",
    "    <tr>\n",
    "      <td>\n",
    "        <p>Did you get more than 8 hours of sleep?</p>\n",
    "        <form>\n",
    "          <input type=\"radio\" name=\"question1\" id=\"question1answer1\" value=\"true\" />\n",
    "          <label>A</label><br />\n",
    "          <input type=\"radio\" name=\"question1\" id=\"question1answer2\" value=\"false\" />\n",
    "          <label>B</label><br />\n",
    "        </form>\n",
    "      </td>\n",
    "      <td rowspan=\"3\">\n",
    "        <img id=\"diagram\" src=\"../../../images/blank-diagram.png\" class=\"gates\">\n",
    "      </td>\n",
    "      <td rowspan=\"3\">\n",
    "      <span id=\"emojiOutput\" style='font-size:100px;'>&#129300;\n",
    "        </span>\n",
    "      </td>\n",
    "    </tr>\n",
    "    <tr>\n",
    "      <td>\n",
    "        <p>Did you finish your homework?</p>\n",
    "        <form>\n",
    "          <input type=\"radio\" name=\"question2\" id=\"question2answer1\" value=\"true\" />\n",
    "          <label>A</label><br />\n",
    "          <input type=\"radio\" name=\"question2\" id=\"question2answer2\" value=\"false\" />\n",
    "          <label>B</label><br />\n",
    "        </form>\n",
    "      </td>\n",
    "    </tr>\n",
    "    <tr>\n",
    "      <td>\n",
    "        <p>Are you excited for school?</p>\n",
    "        <form>\n",
    "          <input type=\"radio\" name=\"question3\" id=\"question3answer1\" value=\"true\" />\n",
    "          <label>A</label><br />\n",
    "          <input type=\"radio\" name=\"question3\" id=\"question3answer2\" value=\"false\" />\n",
    "          <label>B</label><br />\n",
    "        </form>\n",
    "      </td>\n",
    "    </tr>\n",
    "  </table>\n",
    "  <button id=\"logicSubmit\">Run Logic</button>\n",
    "\n",
    "  <script>\n",
    "  // checks when the submit button is clicked to perform a function for what will happen\n",
    "    document.getElementById('logicSubmit').addEventListener('click', process);\n",
    "\n",
    "    function process() {\n",
    "      // get the radio buttons that are in each question\n",
    "      var Q1Options = document.getElementsByName('question1');\n",
    "      var Q2Options = document.getElementsByName('question2');\n",
    "      var Q3Options = document.getElementsByName('question3');\n",
    "\n",
    "// calling the getSelectedValue function and input the radio buttons for each question as an argument. this is important because the function will loop through the amount of radio buttons and whichever one is \n",
    "// checked will be set to true\n",
    "      var Q1Value = getSelectedValue(Q1Options);\n",
    "      var Q2Value = getSelectedValue(Q2Options);\n",
    "      var Q3Value = getSelectedValue(Q3Options);\n",
    "      \n",
    "\n",
    "      var output = document.getElementById('emojiOutput');\n",
    "// test code to check what happens when the question1 is set to true \n",
    "      switch (Q1Value) {\n",
    "      case \"true\":\n",
    "        if (Q2Value === \"true\" & Q3Value === \"true\") {\n",
    "          output.innerHTML = '&#128513;';\n",
    "          document.getElementById('diagram').src=\"../../../images/TTT.png\";\n",
    "        } else if (Q2Value === \"true\" & Q3Value === \"false\") {\n",
    "          output.innerHTML = '&#128579;';\n",
    "          document.getElementById('diagram').src=\"../../../images/TTF.png\";\n",
    "        } else if (Q2Value === \"false\" & Q3Value === \"true\") {\n",
    "          output.innerHTML = '&#128580;';\n",
    "          document.getElementById('diagram').src=\"../../../images/TFT.png\";\n",
    "        } else {\n",
    "          output.innerHTML = '&#128577;';\n",
    "          document.getElementById('diagram').src=\"../../../images/TFF.png\";\n",
    "        }\n",
    "        break;\n",
    "      case \"false\":\n",
    "      if (Q2Value === \"true\" & Q3Value === \"true\") {\n",
    "        output.innerHTML = '&#129393;';\n",
    "        document.getElementById('diagram').src=\"../../../images/FTT.png\";\n",
    "      } else if (Q2Value === \"true\" & Q3Value === \"false\") {\n",
    "        output.innerHTML = '&#129300;';\n",
    "        document.getElementById('diagram').src=\"../../../images/FTF.png\";\n",
    "      } else if (Q2Value === \"false\" & Q3Value === \"true\") {\n",
    "        output.innerHTML = '&#129488;';\n",
    "        document.getElementById('diagram').src=\"../../../images/FFT.png\";\n",
    "      } else {\n",
    "        output.innerHTML = '&#128128;';\n",
    "        document.getElementById('diagram').src=\"../../../images/blank-diagram.png\";\n",
    "      }\n",
    "        break;\n",
    "    }\n",
    "    // note: when all true, dont need statement because everything is satisfied\n",
    "    // function closing bracket dont delete\n",
    "    }\n",
    "\n",
    "// function that takes the questions input as a parameter and loops through the amount of options, which is 2, and if a certain value is checked, then set the value to true \n",
    "    function getSelectedValue(options) {\n",
    "      for (var i = 0; i < options.length; i++) {\n",
    "        if (options[i].checked) {\n",
    "          return options[i].value;\n",
    "        }\n",
    "      }\n",
    "      // returns a default value or handle the case where no radio button is selected\n",
    "      return undefined;\n",
    "    }\n",
    "  </script>\n",
    "\n",
    "</body>\n",
    "</html>"
   ]
  },
  {
   "cell_type": "markdown",
   "metadata": {},
   "source": [
    "# Component B"
   ]
  },
  {
   "cell_type": "markdown",
   "metadata": {},
   "source": [
    "- Here is my video demonstrating input, function, and output:\n",
    "    - [Logic Gates With Emojis Video](https://www.youtube.com/watch?v=or1R6Felp00)"
   ]
  },
  {
   "cell_type": "markdown",
   "metadata": {},
   "source": [
    "# Component C\n",
    "\n",
    "## Procedure"
   ]
  },
  {
   "cell_type": "code",
   "execution_count": null,
   "metadata": {
    "vscode": {
     "languageId": "javascript"
    }
   },
   "outputs": [],
   "source": [
    "function getSelectedValue(options) {\n",
    "    for (var i = 0; i < options.length; i++) {\n",
    "      if (options[i].checked) {\n",
    "        return options[i].value;\n",
    "      }\n",
    "    }\n",
    "    return undefined;\n",
    "  }"
   ]
  },
  {
   "cell_type": "markdown",
   "metadata": {},
   "source": [
    "- The procedure, getSelectedValue, takes the questions input as a parameter and will return either a string value of \"true\" or \"false\" or undefined if the radio button isn't selected.\n",
    "- Inside the procedure, getSelectedValue, there is an algorithm that performs sequencing(order of things) by performing the for loop for every option before the if statement of checking if the option is checked. Selection occurs in the algorthm because it is specifically checking each question and if one is selected. Lastly, the algorithm performs iteration because there is a for and if loop so it is a repeated process for each question. "
   ]
  },
  {
   "cell_type": "code",
   "execution_count": null,
   "metadata": {
    "vscode": {
     "languageId": "javascript"
    }
   },
   "outputs": [],
   "source": [
    "var Q1Value = getSelectedValue(Q1Options);\n",
    "var Q2Value = getSelectedValue(Q2Options);\n",
    "var Q3Value = getSelectedValue(Q3Options);"
   ]
  },
  {
   "cell_type": "markdown",
   "metadata": {},
   "source": [
    "- This procedure and algorithm is called when creating variables to check the values for each question"
   ]
  },
  {
   "cell_type": "markdown",
   "metadata": {},
   "source": [
    "## List"
   ]
  },
  {
   "cell_type": "code",
   "execution_count": null,
   "metadata": {
    "vscode": {
     "languageId": "html"
    }
   },
   "outputs": [],
   "source": [
    "<tr>\n",
    "<td>\n",
    "  <p>Did you get more than 8 hours of sleep?</p>\n",
    "  <form>\n",
    "    <input type=\"radio\" name=\"question1\" id=\"question1answer1\" value=\"true\" />\n",
    "    <label>A</label><br />\n",
    "    <input type=\"radio\" name=\"question1\" id=\"question1answer2\" value=\"false\" />\n",
    "    <label>B</label><br />\n",
    "  </form>\n",
    "</td>\n",
    "<td rowspan=\"3\">\n",
    "  <img id=\"diagram\" src=\"../../../images/blank-diagram.png\" class=\"gates\">\n",
    "</td>\n",
    "<td rowspan=\"3\">\n",
    "<span id=\"emojiOutput\" style='font-size:100px;'>&#129300;\n",
    "  </span>\n",
    "</td>\n",
    "</tr>\n",
    "<tr>\n",
    "<td>\n",
    "  <p>Did you finish your homework?</p>\n",
    "  <form>\n",
    "    <input type=\"radio\" name=\"question2\" id=\"question2answer1\" value=\"true\" />\n",
    "    <label>A</label><br />\n",
    "    <input type=\"radio\" name=\"question2\" id=\"question2answer2\" value=\"false\" />\n",
    "    <label>B</label><br />\n",
    "  </form>\n",
    "</td>\n",
    "</tr>\n",
    "<tr>\n",
    "<td>\n",
    "  <p>Are you excited for school?</p>\n",
    "  <form>\n",
    "    <input type=\"radio\" name=\"question3\" id=\"question3answer1\" value=\"true\" />\n",
    "    <label>A</label><br />\n",
    "    <input type=\"radio\" name=\"question3\" id=\"question3answer2\" value=\"false\" />\n",
    "    <label>B</label><br />\n",
    "  </form>\n",
    "</td>\n",
    "</tr>"
   ]
  },
  {
   "cell_type": "markdown",
   "metadata": {},
   "source": [
    "- Data is stored by having values to each question in a form. The procedure shown above will iterate through each question and check which one is selected. For the \"Are you excited for school?\" question, the procedure will check which button is selected and return its value as either \"true\" or \"false\". \n"
   ]
  },
  {
   "cell_type": "code",
   "execution_count": null,
   "metadata": {
    "vscode": {
     "languageId": "javascript"
    }
   },
   "outputs": [],
   "source": [
    "var Q1Options = document.getElementsByName('question1');\n",
    "      var Q2Options = document.getElementsByName('question2');\n",
    "      var Q3Options = document.getElementsByName('question3');\n",
    "\n",
    "      var Q1Value = getSelectedValue(Q1Options);\n",
    "      var Q2Value = getSelectedValue(Q2Options);\n",
    "      var Q3Value = getSelectedValue(Q3Options);\n",
    "      \n",
    "\n",
    "      var output = document.getElementById('emojiOutput');\n",
    "\n",
    "      switch (Q1Value) {\n",
    "      case \"true\":\n",
    "        if (Q2Value === \"true\" & Q3Value === \"true\") {\n",
    "          output.innerHTML = '&#128513;';\n",
    "          document.getElementById('diagram').src=\"../../../images/TTT.png\";\n",
    "        } else if (Q2Value === \"true\" & Q3Value === \"false\") {\n",
    "          output.innerHTML = '&#128579;';\n",
    "          document.getElementById('diagram').src=\"../../../images/TTF.png\";\n",
    "        } else if (Q2Value === \"false\" & Q3Value === \"true\") {\n",
    "          output.innerHTML = '&#128580;';\n",
    "          document.getElementById('diagram').src=\"../../../images/TFT.png\";\n",
    "        } else {\n",
    "          output.innerHTML = '&#128577;';\n",
    "          document.getElementById('diagram').src=\"../../../images/TFF.png\";\n",
    "        }\n",
    "        break;\n",
    "      case \"false\":\n",
    "      if (Q2Value === \"true\" & Q3Value === \"true\") {\n",
    "        output.innerHTML = '&#129393;';\n",
    "        document.getElementById('diagram').src=\"../../../images/FTT.png\";\n",
    "      } else if (Q2Value === \"true\" & Q3Value === \"false\") {\n",
    "        output.innerHTML = '&#129300;';\n",
    "        document.getElementById('diagram').src=\"../../../images/FTF.png\";\n",
    "      } else if (Q2Value === \"false\" & Q3Value === \"true\") {\n",
    "        output.innerHTML = '&#129488;';\n",
    "        document.getElementById('diagram').src=\"../../../images/FFT.png\";\n",
    "      } else {\n",
    "        output.innerHTML = '&#128128;';\n",
    "        document.getElementById('diagram').src=\"../../../images/blank-diagram.png\";\n",
    "      }\n",
    "        break;\n",
    "    }\n",
    "\n",
    "    function getSelectedValue(options) {\n",
    "      for (var i = 0; i < options.length; i++) {\n",
    "        if (options[i].checked) {\n",
    "          return options[i].value;\n",
    "        }\n",
    "      }\n",
    "      return undefined;\n",
    "    }"
   ]
  },
  {
   "cell_type": "markdown",
   "metadata": {},
   "source": [
    "- The data in the question will be iterated, selected, and sequenced to get the value of each question. Then, the values will be evaluated using switch case statements in order to produce the correct output."
   ]
  },
  {
   "cell_type": "markdown",
   "metadata": {},
   "source": [
    "- One piece of documentation that would be appropriate to include with my program is user instructions and comments. Overall, this makes it easy for the user to understand how the program works and improves the quality of life. With instructions they wouldn't be confused with how the program works and what they need to do. Comments make it easy for the user to understand each part of the code that contributes to the functionality of the program."
   ]
  },
  {
   "cell_type": "markdown",
   "metadata": {},
   "source": [
    "# Question 2"
   ]
  },
  {
   "cell_type": "markdown",
   "metadata": {},
   "source": [
    "(a) Consider the first iteration statement included in the Procedure section of your Personalized Project Reference. Describe the condition(s) that will cause the body of the iteration statement to execute at least once.\n",
    "- The first iteration statement will execute for every condition. Here is the for statement:\n",
    "    - for (var i = 0; i < options.length; i++)\n",
    "        - For every length of the amount of the options, perform the body of the function"
   ]
  },
  {
   "cell_type": "markdown",
   "metadata": {},
   "source": [
    "(b) Consider the procedure identified in part (i) of the Procedure section of your Personalized Project Reference. Write a call to your procedure with specific argument(s) that you could use for testing this procedure. Describe the program functionality that is related to this call."
   ]
  },
  {
   "cell_type": "code",
   "execution_count": null,
   "metadata": {
    "vscode": {
     "languageId": "javascript"
    }
   },
   "outputs": [],
   "source": [
    "var Q1Value = getSelectedValue(Q1Options);\n",
    "var Q2Value = getSelectedValue(Q2Options);\n",
    "var Q3Value = getSelectedValue(Q3Options);"
   ]
  },
  {
   "cell_type": "markdown",
   "metadata": {},
   "source": [
    "- The program functionality of this is to get the value of the selected option so if question 1 is selected to true, then the value corresponds with it."
   ]
  },
  {
   "cell_type": "markdown",
   "metadata": {},
   "source": [
    "(c) Consider the list identified in the List section of your Personalized Project Reference. Explain how you would need to adjust this part of your program if the list was not included in your code.\n",
    "- To add a list to the program, I would create a variable containing a list for with the values \"true\" and \"false\". My procedure will go through all options of the questions and if true or false it selected, then the question's certain value is set to \"true\" or \"false\" by gravving a certain idnex of the list. "
   ]
  }
 ],
 "metadata": {
  "language_info": {
   "name": "python"
  }
 },
 "nbformat": 4,
 "nbformat_minor": 2
}
