{
 "cells": [
  {
   "cell_type": "markdown",
   "metadata": {},
   "source": [
    "---\n",
    "title: College Board Quiz Notes\n",
    "comments: true\n",
    "hide: true\n",
    "layout: post\n",
    "description: Notes on the AP College Board Quiz\n",
    "courses: { labnb: {week: 11} }\n",
    "type: hacks\n",
    "---"
   ]
  },
  {
   "cell_type": "markdown",
   "metadata": {},
   "source": [
    "# College Board Quiz Notes\n",
    "\n",
    "## Common Occurances\n",
    "- Arrows are used to assign values to variables\n",
    "- Its not all text, its also word problems\n",
    "- A lot of fill in the blanks for missing code\n",
    "- "
   ]
  },
  {
   "cell_type": "markdown",
   "metadata": {},
   "source": [
    "# Questions to Review\n",
    "\n",
    "## Question 12\n",
    "![Question 12](../../../images/question-13.png)\n",
    "- Very hard Question\n",
    "- It talked about a pattern and predict what will happen in the future\n",
    "- I wrote down the pattern but didn't recognize much\n",
    "- Pretty hard problem to get correct if it was on the real exam\n",
    "\n",
    "\n",
    "## Question 22\n",
    "![Question 22](../../../images/example5.png)\n",
    "- This question confused me because of the way it asked it\n",
    "- Im assuming it only wants to return the counter value if it is greater than the total amount of days of the month\n",
    "- The comparison operator satisfies this as it will only return the value of counter if it is greater than half of the total\n",
    "\n",
    "## Question 33 \n",
    "![Question 22](../../../images/example6.png)\n",
    "- This question seems hard and time-consuming\n",
    "- However, it is very simple if you look at how the algorithm ends\n",
    "    - The algorithm ends if include is either true or false\n",
    "        - This means that the algorithm has an or statement because one of the statements can be true or false\n",
    "\n",
    "## Example 4\n",
    "![Example 7](../../../images/example7.png)\n",
    "- The main focus of this question is the MOD\n",
    "- MOD means modulo which will return the remainder of the divison of two numbers\n",
    "- So if they're trying to calculate every 10th purchase, use modulo because if the purcahse is the 10th, it will return a remainder of 0 when divided by 10\n",
    "\n",
    "## Example 5\n",
    "![Example 8](../../../images/example8.png)\n",
    "- This question was kind of tedious\n",
    "- It was more of a guess and check\n",
    "- I took two numbers, 50 and 35, and ran through every answer. Answer C was the most reasonable\n",
    "\n",
    "## Example 6\n",
    "![Example 9](../../../images/example9.png)\n",
    "- I had to look up the answer for this question\n",
    "- I don't know anything about bits\n",
    "- After researching, 4 bits means the range is 2^4 so 16. 10+7 is 17 so it is outside the range\n",
    "\n",
    "## Example 7\n",
    "![Example 10](../../../images/example10.png)\n",
    "- Definitely got this question wrong\n",
    "- Searched up what a symmetric encryption is:\n",
    "    - One secret key is used to encrypt and decrypt data\n",
    "- Correct answer is FInn and Gwen because they both use the same key to send and return data\n",
    "\n",
    "## Example 8\n",
    "![Example 11](../../../images/example11.png)\n",
    "- This question is trial and error\n",
    "- Take 2 as the base and find the closest power to 200, which is 8"
   ]
  },
  {
   "cell_type": "markdown",
   "metadata": {},
   "source": [
    "# Types of Questions\n",
    "- A lot of the hard questions are because they ask it in a deceiving/indirect way.\n",
    "- They ask: \n",
    "    - Pick the BEST possible answer\n",
    "    - Multiple choices like I and II, only I, I and II and III, or just III.\n",
    "    - The other answers in multiple choice are similar but switched in some sort of way"
   ]
  }
 ],
 "metadata": {
  "kernelspec": {
   "display_name": "Python 3",
   "language": "python",
   "name": "python3"
  },
  "language_info": {
   "name": "python",
   "version": "3.11.6"
  },
  "orig_nbformat": 4
 },
 "nbformat": 4,
 "nbformat_minor": 2
}
