{
 "cells": [
  {
   "cell_type": "markdown",
   "metadata": {},
   "source": [
    "---\n",
    "title: College Board Quiz Notes\n",
    "comments: true\n",
    "hide: true\n",
    "layout: post\n",
    "description: Notes on the AP College Board Quiz\n",
    "courses: { labnb: {week: 11} }\n",
    "type: hacks\n",
    "---"
   ]
  },
  {
   "cell_type": "markdown",
   "metadata": {},
   "source": [
    "# College Board Quiz Notes\n",
    "\n",
    "## First 20 Questions\n",
    "- Arrows are used to assign values to variables\n",
    "- Its not all text, its also word problems\n",
    "- A lot of fill in the blanks\n",
    "\n",
    "### Question 12\n",
    "- Very hard Question\n",
    "- It talked about a pattern and predict what will happen in the future\n",
    "- I wrote down the pattern but didn't recognize much\n",
    "- Pretty hard problem to get correct if it was on the real exam\n",
    "![Question 12](../../../images/question-13.png)\n",
    "\n",
    "### Deceiving Questions\n",
    "- A lot of the hard questions involve the type of answers\n",
    "- They ask: \n",
    "    - Pick the BEST possible answer\n",
    "- Multiple choices like I and II, only I, I and II and III, or just III."
   ]
  }
 ],
 "metadata": {
  "kernelspec": {
   "display_name": "Python 3",
   "language": "python",
   "name": "python3"
  },
  "language_info": {
   "name": "python",
   "version": "3.11.6"
  },
  "orig_nbformat": 4
 },
 "nbformat": 4,
 "nbformat_minor": 2
}
