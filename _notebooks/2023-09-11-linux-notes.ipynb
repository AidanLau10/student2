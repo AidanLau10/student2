{
 "cells": [
  {
   "cell_type": "markdown",
   "metadata": {},
   "source": [
    "---\n",
    "title: Linux Notes\n",
    "comments: true\n",
    "hide: true\n",
    "layout: post\n",
    "description: Notes for Linux commands\n",
    "courses: { labnb: {week: 3} }\n",
    "type: tangibles\n",
    "---"
   ]
  }
 ],
 "metadata": {
  "language_info": {
   "name": "python"
  },
  "orig_nbformat": 4
 },
 "nbformat": 4,
 "nbformat_minor": 2
}
