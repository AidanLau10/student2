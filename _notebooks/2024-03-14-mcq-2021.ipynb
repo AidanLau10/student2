{
 "cells": [
  {
   "cell_type": "raw",
   "metadata": {},
   "source": [
    "---\n",
    "comments: true\n",
    "layout: post\n",
    "title: MCQ 2021 Reflection\n",
    "description: Questions and sample Python code to represent the most frequently missed questions on the 2020 AP Computer Science A Multiple Choice Exam. \n",
    "type: hacks\n",
    "courses: { labnb: {week: 26} }\n",
    "---"
   ]
  },
  {
   "cell_type": "markdown",
   "metadata": {},
   "source": [
    "# Reflection\n",
    "\n",
    "Compared to the past mcqs that I've taken, this one was harder because of the time limit.  "
   ]
  },
  {
   "cell_type": "markdown",
   "metadata": {},
   "source": [
    "# Question 10\n",
    "![Question 10](../../../images/2021-Q10.png)\n",
    "- 11000 is the binary value for jump. My thinking was that the the power that you are raising to is the number from right to left. The two ones are in the 4 and 5 position so I thought that 2^4 + 2^5 = 16 + 32 = 48. However, the count starts from 0 so it is 2^3 + 2^4 = 8 + 16 = 24.\n",
    "\n",
    "# Question 47\n",
    "![Question 47](../../../images/2021-Q47.png)\n",
    "- The expression will evaluate to true when the average customer rating is greater than or equal to 4 AND the price range is either medium or low. I chose the incorrect option that BOTH the the price range had to be low and medium but thats not possible for one resturant to have 2 possible price ranges.\n",
    "\n",
    "# Question 55\n",
    "![Question 55](../../../images/2021-Q55.png)\n",
    "- This code segment will take the length of the list which is 5, set the variable temp to the last element of the list, remove the last element of the list, and then insert the temp variable into the first element of the list.\n",
    "\n",
    "# Question 62\n",
    "![Question 62](../../../images/2021-Q62.png)\n",
    "- It says \"Users have the ability to pay a monthly fee for a premium account, which removes advertisements from the application.\" so users with premium will not receive targeted ads.\n",
    "\n",
    "# Question 63\n",
    "![Question 62](../../../images/2021-Q62.png)\n",
    "- I chose D correct as it checks input1 AND input2 and then switches the value of the boolean expression. A is the other correct answer because it switches the value of input1 and input2 then checks if at least one of them is true. For three of the cases, true and false; false and true; false and false, at least one of the values will be true which will set the end result to true. The last case is true and true which will be switched to false and false and the end result will be false.\n",
    "\n",
    "# Question 66\n",
    "![Question 66](../../../images/2021-Q66.png)\n",
    "- I got A correct buy D is the other correct answery. If the timer is greater than 60, then 1500 bonus points are awarded. If the timer is between 30 and 60, then 1000 bonus points are awarded. Lastly, if the time is less than 30, then 500 bonus points are awarded.\n",
    "\n",
    "# Question 68\n",
    "![Question 68](../../../images/2021-Q68.png)\n",
    "- The code segment will take the length of the list which is 6, and if the last element is equal to the element to the left of it, then it will remove it. This will loop until it checks all the elements in the list. This code won't work for A because the final list will be [10,20,10] which still has duplicates. It also won't work for C because it won't remove anything but the final list will still have duplicates [30,50,40,10,20,40]\n",
    "\n",
    "# Question 70\n",
    "![Question 70](../../../images/2021-Q70.png)\n",
    "- I got C correct but missed A. Lets say \"best\" is the oldstring and n is 3. It takes The string of characters from 1 to 2 which is \"be\" and is concatenates it to the right of the 3rd letter of best which is t. The final word is \"bet\""
   ]
  }
 ],
 "metadata": {
  "kernelspec": {
   "display_name": "Python 3",
   "language": "python",
   "name": "python3"
  },
  "language_info": {
   "codemirror_mode": {
    "name": "ipython",
    "version": 3
   },
   "file_extension": ".py",
   "mimetype": "text/x-python",
   "name": "python",
   "nbconvert_exporter": "python",
   "pygments_lexer": "ipython3",
   "version": "3.11.7"
  },
  "orig_nbformat": 4
 },
 "nbformat": 4,
 "nbformat_minor": 2
}
