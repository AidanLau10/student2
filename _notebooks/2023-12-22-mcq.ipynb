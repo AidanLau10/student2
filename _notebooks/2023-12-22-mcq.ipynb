{
 "cells": [
  {
   "cell_type": "markdown",
   "metadata": {},
   "source": [
    "---\n",
    "title: 2020 Practice 1 MCQ Reflection\n",
    "comments: true\n",
    "hide: true\n",
    "layout: post\n",
    "description: A reflection on the Practice 1 MCQ\n",
    "courses: { labnb: {week: 17} }\n",
    "type: tangibles\n",
    "---"
   ]
  },
  {
   "cell_type": "markdown",
   "metadata": {},
   "source": [
    "# Score: 62/67\n",
    "\n",
    "# Research and Journey\n",
    "\n",
    "- I found that a lot of questions involved topics around big ideas from `student teaches`. Paying attention and doing the homework during the team teach helped me answer these questions. \n",
    "- Also, I found that a good way to answer questions that involved algorithms or code segments was too do the `process of elimination`. From the past MCQ I took, \n",
    "\n",
    "# Problems that seemed tricky:\n",
    "\n",
    "- Q2: This question is based around the idea of crowdsourcing where the research team uses the general public for a more reasonable amount of time.\n",
    "- Q4: A number that is stored by a computer can only handle a certain amount of bits. When the computer adds the numbers and the numbers exceed the limit that a computer can process, it will result in an overflow error because the operation is outside the limit. \n",
    "- Q11: This question and question 12 are probably the hardest because they involve having to add numbers that are raised to a certain power. If the binary RGB triplet is (11111111,11111111,11110000), then you have to add 2^7 + 2^6 + 2^5 + 2^4 + 2^3 + 2^2 + 2^1 + 2^0 to find the value of 11111111. To find 11110000, add 2^7 + 2^6 + 2^5 + 2^4. The values should be 255,255,240 which match ivory.\n",
    "- Q12: This is the opposite of Q11 where you have to find the binary RGB triplet and ae given the RGB triplet values. This involves knowing what raised base 2 numbers add up to the RGB triplet so 75 is 64 + 8 + 2 + 1 which are 2^6 + 2^3 + 2^1 + 2^0 respectively.\n",
    "- Q13: I saw two of these same types of questions where you have to find what you cannot conclude from the information. Any answer that could only be found if more steps were taken than what was given was probably the one. \n",
    "- Q14: I got this question wrong and switched Display the remainder of number with Display the integer quotient of number. Displaying the remainder of number is correct because it is the last digit that should be used first to display the reverse of number. \n",
    "- `Q17`: ![Q17](../../../images/Q17.png) \n",
    "- I thought machine learning instructions were too complex to be represented by a sequence of bits but all data can be represented with bits because thats the form of communication for computers.\n",
    "- `Q23`: ![Q23](../../../images/Q23.png) \n",
    "- I chose the answer that said miles ≥ 20 but it was actually miles < 20. It was a little and rushed mistake that I should've looked over more carefully.\n",
    "- `Q26`: ![Q26](../../../images/Q26.png) \n",
    "- I always think copyright information is like a description ad words so it shouldn't be represented by binary values. However, its metadata which is included and a duplicate copy of the data isn't.\n",
    "- Q29: The question is about lossless data so any process that involves a compression without a restoration is faulty. \n",
    "- Q30: The number will always be possible because of the first function and it will never display out of range because the if statements account for all numbers.\n",
    "- Q32: It's important to pick the answer that subtracts the length of scores because the lowest grade will be dropped from the length of grades.\n",
    "- `Q42`: ![Q42](../../../images/q42.png) \n",
    "- The similar answers with varying addition and subtraction and evaluation symbols really threw me off that I stopped thinking. For future problems like this, I should actually evaluate with a number.\n",
    "- `Q43` : ![Q42](../../../images/q43.png) \n",
    "- Redundant routing can just be more than 1 pathway to get from one device to another\n",
    "- Q47: In binary sorters/searches, the list must be ordered. \n",
    "- Q50: This question is a bit tricky because the logical answer would be only III but any algorithm that takes less or equal amount of steps that a polynomial function is fine\n",
    "- Q55: This question was really confusing but by writing the height at the top of the card and a 1 at the bottom of the card, the last person's card will have the sum of the heights at the top and the number of people at the bottom so they will be divided and show the average.\n",
    "\n",
    "\n",
    "\n",
    "\n",
    "\n"
   ]
  },
  {
   "cell_type": "markdown",
   "metadata": {},
   "source": [
    "# Reflection\n",
    "\n",
    "-> I found that a lot of the easier problems I faced were those that involved code segments and logic. A lot of the time it just involved process of elimination by testing each possible answer. However, I found that a lot of the harder problems were those that were \"questions\" with. Also, for questions that involved the internet(my student teach), I found them to be super easy but questions that involved other team teaches like fault tolerance were tricky. \n",
    "While doing corrections, I noticed a pattern that I keep missing the logic gate questions like AND/OR. I don't know why I miss them but I know from now on I should evaluate possible answers"
   ]
  }
 ],
 "metadata": {
  "language_info": {
   "name": "python"
  },
  "orig_nbformat": 4
 },
 "nbformat": 4,
 "nbformat_minor": 2
}
