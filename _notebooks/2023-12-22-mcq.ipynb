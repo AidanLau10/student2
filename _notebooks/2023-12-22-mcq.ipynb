{
 "cells": [
  {
   "cell_type": "markdown",
   "metadata": {},
   "source": [
    "---\n",
    "title: 2020 Practice 1 MCQ Reflection\n",
    "comments: true\n",
    "hide: true\n",
    "layout: post\n",
    "description: A reflection on the Practice 1 MCQ\n",
    "courses: { labnb: {week: 17} }\n",
    "type: tangibles\n",
    "---"
   ]
  },
  {
   "cell_type": "markdown",
   "metadata": {},
   "source": [
    "# Score; 62/67\n",
    "\n",
    "corrections, journey, learnings, discovery\n",
    "\n",
    "you must complete a 5 minute blog describing your research or journey to learn this material.  That would include test corrections.  Score range will be 55% for no blog to 100% for blog/corrections and score.  Quality of blog will be big factor in scoring."
   ]
  },
  {
   "cell_type": "markdown",
   "metadata": {},
   "source": []
  }
 ],
 "metadata": {
  "language_info": {
   "name": "python"
  },
  "orig_nbformat": 4
 },
 "nbformat": 4,
 "nbformat_minor": 2
}
