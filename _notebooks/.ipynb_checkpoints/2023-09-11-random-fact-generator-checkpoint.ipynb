{
 "cells": [
  {
   "cell_type": "markdown",
   "id": "7ea2f30f",
   "metadata": {},
   "source": [
    "---\n",
    "title: Random Fact Generator\n",
    "comments: true\n",
    "hide: true\n",
    "layout: default\n",
    "description: Python code to generate a random fact each time the user presses enter.\n",
    "courses: { labnb: {week: 3} }\n",
    "type: hacks\n",
    "---"
   ]
  },
  {
   "cell_type": "code",
   "execution_count": null,
   "id": "35981f61",
   "metadata": {},
   "outputs": [
    {
     "name": "stdout",
     "output_type": "stream",
     "text": [
      "Random Facts\n",
      "Press Enter for a Fact\n",
      "\n",
      "Press Enter for a Fact\n",
      "\n",
      "Press Enter for a Fact\n",
      "\n",
      "Press Enter for a Fact\n",
      "\n",
      "Press Enter for a Fact\n",
      "\n",
      "Press Enter for a Fact\n",
      "\n",
      "Press Enter for a Fact\n",
      "\n",
      "Press Enter for a Fact\n",
      "\n",
      "Press Enter for a Fact\n",
      "\n",
      "Press Enter for a Fact\n"
     ]
    }
   ],
   "source": [
    "import randfacts as rf\n",
    "\n",
    "print(\"Random Facts\")\n",
    "x =''\n",
    "\n",
    "while x =='':\n",
    "    print(\"Press Enter for a Fact\")\n",
    "    x = input()\n",
    "fact = rf.get_fact()\n",
    "print(fact)"
   ]
  },
  {
   "cell_type": "code",
   "execution_count": null,
   "id": "2ecaaf84",
   "metadata": {},
   "outputs": [],
   "source": []
  }
 ],
 "metadata": {
  "kernelspec": {
   "display_name": "Python 3 (ipykernel)",
   "language": "python",
   "name": "python3"
  },
  "language_info": {
   "codemirror_mode": {
    "name": "ipython",
    "version": 3
   },
   "file_extension": ".py",
   "mimetype": "text/x-python",
   "name": "python",
   "nbconvert_exporter": "python",
   "pygments_lexer": "ipython3",
   "version": "3.10.12"
  }
 },
 "nbformat": 4,
 "nbformat_minor": 5
}
