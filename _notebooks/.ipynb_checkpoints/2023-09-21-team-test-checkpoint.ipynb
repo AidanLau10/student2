{
 "cells": [
  {
   "cell_type": "markdown",
   "metadata": {},
   "source": [
    "---\n",
    "title: Team Test\n",
    "comments: true\n",
    "hide: true\n",
    "layout: post\n",
    "description: Program Function and Purpose\n",
    "categories: [C7.0]\n",
    "courses: { labnb: {week: 5} }\n",
    "type: hacks\n",
    "---"
   ]
  },
  {
   "cell_type": "markdown",
   "metadata": {},
   "source": []
  }
 ],
 "metadata": {
  "language_info": {
   "name": "python"
  },
  "orig_nbformat": 4
 },
 "nbformat": 4,
 "nbformat_minor": 2
}
