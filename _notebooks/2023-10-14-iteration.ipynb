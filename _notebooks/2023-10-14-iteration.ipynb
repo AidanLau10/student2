{
 "cells": [
  {
   "cell_type": "markdown",
   "metadata": {},
   "source": [
    "---\n",
    "comments: true\n",
    "layout: post\n",
    "title: P1 Iteration\n",
    "description: student2 Teaching\n",
    "courses: { labnb: {week: 8} }\n",
    "type: hacks\n",
    "---"
   ]
  },
  {
   "cell_type": "code",
   "execution_count": 16,
   "metadata": {},
   "outputs": [
    {
     "name": "stdout",
     "output_type": "stream",
     "text": [
      "Waking up\n",
      "Brushing teeth\n",
      "Taking a shower\n",
      "Going to school\n",
      "Coming back home\n",
      "Eating dinner\n"
     ]
    }
   ],
   "source": [
    "# function of aspects of my daily routine with parameter step\n",
    "def aspects_of_life(step):\n",
    "    activities = [\n",
    "        \"Waking up\",\n",
    "        \"Brushing teeth\",\n",
    "        \"Taking a shower\",\n",
    "        \"Going to school\",\n",
    "        \"Coming back home\",\n",
    "        \"Eating dinner\",\n",
    "        \"Going to sleep\"\n",
    "    ]\n",
    "\n",
    "# if  step is 0, return nothing\n",
    "    if step == 0:\n",
    "        return\n",
    "    # whatever value step is when it is called as an argument, subtract 1\n",
    "    aspects_of_life(step - 1)\n",
    "    activity = activities[step - 1] \n",
    "    # if step is less than or equal to the length of the list, print activity\n",
    "    if step <= len(activities):\n",
    "        print(activity)\n",
    "    else:\n",
    "        print('Unknown activity')\n",
    "\n",
    "# call function with parameter set equal to 6\n",
    "aspects_of_life(6)\n"
   ]
  },
  {
   "cell_type": "code",
   "execution_count": null,
   "metadata": {},
   "outputs": [],
   "source": [
    "x = 3\n",
    "def fibonacci(x):\n",
    "    if x==1:\n",
    "        return(0) # First terminating statement\n",
    "    if x == 2:\n",
    "        return(1) # Second terminating statement\n",
    "   \n",
    "    else:\n",
    "        return(fibonacci(x-1)+ fibonacci(x-2))\n",
    "\n",
    "\n",
    "for i in range(8):    \n",
    "    print(fibonacci(i+1))\n",
    "    \n",
    "# you need two terminating statements because they are the base terms for the fibonacci sequence. \n",
    "# without them, the sequence would continue forever, and result in a stack overflow error.\n",
    "# the terms after the first two have no base numbers to sequence off of.\n"
   ]
  },
  {
   "cell_type": "markdown",
   "metadata": {},
   "source": [
    "## "
   ]
  }
 ],
 "metadata": {
  "kernelspec": {
   "display_name": "Python 3 (ipykernel)",
   "language": "python",
   "name": "python3"
  },
  "language_info": {
   "codemirror_mode": {
    "name": "ipython",
    "version": 3
   },
   "file_extension": ".py",
   "mimetype": "text/x-python",
   "name": "python",
   "nbconvert_exporter": "python",
   "pygments_lexer": "ipython3",
   "version": "3.11.6"
  }
 },
 "nbformat": 4,
 "nbformat_minor": 4
}
