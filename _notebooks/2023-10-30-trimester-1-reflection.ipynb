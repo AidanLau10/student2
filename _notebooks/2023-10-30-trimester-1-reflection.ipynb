{
 "cells": [
  {
   "cell_type": "markdown",
   "metadata": {},
   "source": [
    "---\n",
    "title: Trimester 1 Reflection\n",
    "comments: true\n",
    "hide: true\n",
    "layout: post\n",
    "description: Reflection of Trimester 1\n",
    "courses: { labnb: {week: 11} }\n",
    "type: hacks\n",
    "---"
   ]
  },
  {
   "cell_type": "markdown",
   "metadata": {},
   "source": [
    "# Trimester 1 Reflection\n"
   ]
  },
  {
   "cell_type": "markdown",
   "metadata": {},
   "source": [
    "## Week 0-3\n",
    "At the start of the trimester when we had to setup all the equipment and tools like Github, VSCode, dependecies, and everything just confused me. I spent hours just debugging and fixing simple errors. One of them that took up my whole day on a school night was because I didnt include the correct year-month-day time when naming a Jupyter Notebook. Another was thinking I could display Python code on the frontend without using Javascript to communicate with it. I was a beginner. Simple as that.\n",
    "\n",
    "However, I found it very fun that I had a class to do something I liked. People always tell you to self-learn in your own time if you want to pursue something you're passionate about but I never knew where to start. Computer science is so broad. Learn app development, software development, backend, frontend, full-stack, what goes with each other. All of these fears were erased once I was able to assigned a project and start learning how to complete it from there. \n",
    "\n",
    "One of the basic projects that I completed at the start was a to do list which taught me a lot about interactions using Javascript, local storage, how to display a web page on a browser using Jupyter notebooks, and how to link scripts to html pages. "
   ]
  },
  {
   "cell_type": "markdown",
   "metadata": {},
   "source": [
    "## Week 4-7\n",
    "Now that I had the hang of things after the grace weeks, I started to make stuff and research on my own. I used the Canvas LMS API to display my future homework assignments for just one class. I tried to do multiple, but I had restricted security permissions. This taught me how to use Python and Flask together to receive the data from the API and render it with an HTML page.\n",
    "\n",
    "The next thing we did was a Web Programming Basics Test. When I first saw the instructions using a navigation bar inside of a navigation bar, it instantly sparked an idea. How about I do the same but customize it? So I added the navigation bar with multiple different topics. Instead of each page linking to me completing a hack, I actually made a purposeful website based on skincare. I also added custom icons on the right of the navigation bar for certain pages like a day/night switcher for day/night skincare routines, and a link to an ingredient checker. I learned a lot about linking multiple notebook files, Jupyter notebook layout, javascript function parameter and arguments, and loops.\n",
    "\n",
    "Week 7 was also the start of team teaching and our passion project :o."
   ]
  },
  {
   "cell_type": "markdown",
   "metadata": {},
   "source": [
    "## Week 8-12 (11 Current)\n",
    "These weeks have been mainly focused on our passion project and student teaching. This passion project development process has taught me A LOT about working with a team, communicating, and using APIs to elevate projects. At first, I thought APIs were like Spotify and Tiktok APIs where you get to implement a part of their website into your own. However, APis can just be communication of data between frontend and backend. I really learned how to use Python and Flask to create endpoints where you can turn Python dictionaries in JSON that is able to be read by the frontend and be displayed in a browser. Also, I learned AWS deployment, HTTP methods, and Postman API. I really wish that we would learn how to use databases to manage large data but it's ok. \n",
    "\n",
    "There was also learning about extracting data and analyzing it uses Pandas but we never got to it. For our student teaching, we had to watch College Board videos and combine it into a cohesive lesson. \n",
    "\n",
    "Overall, this trimester has fueled my desire to learn the process of coding and create my own projects. I turned from a person who didn't know where to start with passionate ideas. I just don't have time :(. Im definitely looking forward to working on my own projects during Thanksgiving break."
   ]
  }
 ],
 "metadata": {
  "kernelspec": {
   "display_name": "Python 3",
   "language": "python",
   "name": "python3"
  },
  "language_info": {
   "name": "python",
   "version": "3.11.6"
  },
  "orig_nbformat": 4
 },
 "nbformat": 4,
 "nbformat_minor": 2
}
