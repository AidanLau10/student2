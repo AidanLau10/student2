{
 "cells": [
  {
   "cell_type": "markdown",
   "metadata": {},
   "source": [
    "---\n",
    "title: Homework List\n",
    "comments: true\n",
    "hide: true\n",
    "layout: default\n",
    "description: HTML, CSS, Javascript, and API to create a homework list.\n",
    "categories: [C7.0]\n",
    "courses: { labnb: {week: 4} }\n",
    "type: hacks\n",
    "---"
   ]
  },
  {
   "cell_type": "markdown",
   "metadata": {},
   "source": [
    "# Will not work for external internet users because this homework list runs on Python Flask.\n",
    "[Homework List](http://127.0.0.1:5000/)"
   ]
  },
  {
   "cell_type": "code",
   "execution_count": null,
   "metadata": {},
   "outputs": [],
   "source": [
    "from flask import Flask, render_template\n",
    "import requests\n",
    "from datetime import datetime, timezone\n",
    "\n",
    "app = Flask(__name__)\n",
    "\n",
    "# prepare url and authorization key\n",
    "base_url = 'https://poway.instructure.com/api/v1/'\n",
    "headers = {\n",
    "    'Authorization': 'Bearer API_TOKEN'\n",
    "}\n",
    "\n",
    "# api endpoint decorator\n",
    "@app.route('/')\n",
    "def homework_list():\n",
    "    try:\n",
    "        # send a request to the AP CSP Canvas assignments Canvas API\n",
    "        response = requests.get(\n",
    "            base_url + 'courses/141645/assignments', headers=headers)\n",
    "\n",
    "        if response.status_code == 200:\n",
    "            # if the response is good, convert the response into json\n",
    "            assignments = response.json()\n",
    "\n",
    "            # get the current date and time in UTC timezone\n",
    "            current_date = datetime.now(timezone.utc)\n",
    "\n",
    "            # filter assignments with due dates in the future\n",
    "            future_assignments = [assignment for assignment in assignments if assignment.get(\n",
    "                'due_at') and datetime.fromisoformat(assignment['due_at']) > current_date]\n",
    "            # this actually displays the json data and future assignments in an HTML page\n",
    "            return render_template('homework-list.html', assignments=future_assignments)\n",
    "        else:\n",
    "            return \" to retrieve assignments. Status code: \" + str(response.status_code)\n",
    "    # runs if response code is not good\n",
    "    except Exception as e:\n",
    "        return \"An error occurred: \" + str(e)\n",
    "\n",
    "\n",
    "if __name__ == '__main__':\n",
    "    app.run(debug=True)"
   ]
  },
  {
   "cell_type": "code",
   "execution_count": null,
   "metadata": {
    "vscode": {
     "languageId": "html"
    }
   },
   "outputs": [],
   "source": [
    "<li class=\"checked\">\n",
    "    <!-- displays the JSON data  -->\n",
    "  <strong>{{ assignment.name }}</strong>\n",
    "  <p>Due Date: {{ assignment.due_at }}</p>\n",
    "  <p>Description: {{ assignment.description | safe }}</p>\n",
    "  <span>×</span>\n",
    "</li>"
   ]
  }
 ],
 "metadata": {
  "kernelspec": {
   "display_name": "Python 3",
   "language": "python",
   "name": "python3"
  },
  "language_info": {
   "codemirror_mode": {
    "name": "ipython",
    "version": 3
   },
   "file_extension": ".py",
   "mimetype": "text/x-python",
   "name": "python",
   "nbconvert_exporter": "python",
   "pygments_lexer": "ipython3",
   "version": "3.11.5"
  },
  "orig_nbformat": 4
 },
 "nbformat": 4,
 "nbformat_minor": 2
}
