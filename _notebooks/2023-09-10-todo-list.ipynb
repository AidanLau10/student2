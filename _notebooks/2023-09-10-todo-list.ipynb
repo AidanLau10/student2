{
 "cells": [
  {
   "cell_type": "markdown",
   "metadata": {},
   "source": [
    "---\n",
    "title: To-Do List\n",
    "comments: true\n",
    "hide: true\n",
    "layout: default\n",
    "description: HTML, CSS, and JavaScript in a To-Do List.\n",
    "categories: [C7.0]\n",
    "courses: { labnb: {week: 3} }\n",
    "type: hacks\n",
    "---"
   ]
  },
  {
   "cell_type": "markdown",
   "metadata": {},
   "source": [
    "<iframe src=\"/student2/to-do-list.html\" width=\"100%\" height=\"800px\">\n",
    "\n",
    "\n",
    "<!-- <link rel=\"stylesheet\" href=\"/student2/to-do-list.css\"> -->\n",
    "<!--  \n",
    "<div id=\"header-list\" class=\"container\">\n",
    "    <div class=\"todo-app\">\n",
    "       <h2>To-Do List<img src=\"/student2/images/icon.png\"></h2>\n",
    "        <div class=\"row\">\n",
    "            <input type=\"text\" id=\"input-box\" placeholder=\"Add your text\">\n",
    "            <button onclick=\"addTask()\">Add</button>\n",
    "        </div>\n",
    "        <ul id=\"list-container\">     \n",
    "        </ul>\n",
    "    </div>\n",
    "</div>\n",
    "<script src=\"/student2/to-do-list.js\"></script> \n",
    "-->\n"
   ]
  }
 ],
 "metadata": {
  "language_info": {
   "name": "python"
  },
  "orig_nbformat": 4
 },
 "nbformat": 4,
 "nbformat_minor": 2
}
