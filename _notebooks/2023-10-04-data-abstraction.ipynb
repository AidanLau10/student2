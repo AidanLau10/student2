{
 "cells": [
  {
   "cell_type": "markdown",
   "metadata": {},
   "source": [
    "---\n",
    "comments: true\n",
    "layout: post\n",
    "title: P1 Data Abstraction\n",
    "description: Student Teaching Data Abstraction\n",
    "courses: { labnb: {week: 7} }\n",
    "type: hacks\n",
    "---"
   ]
  },
  {
   "cell_type": "code",
   "execution_count": 1,
   "metadata": {},
   "outputs": [
    {
     "name": "stdout",
     "output_type": "stream",
     "text": [
      "30\n",
      "0.6716417910447761\n",
      "Hello Aidan\n",
      "Nice!\n"
     ]
    }
   ],
   "source": [
    "# Question 1: Integer Operation\n",
    "num1Int = 10\n",
    "num2Int = 20\n",
    "print(num1Int + num2Int)\n",
    "\n",
    "# Question 2: Float Operation\n",
    "float1 = 4.5\n",
    "float2 = 6.7\n",
    "print(float1 / float2)\n",
    "\n",
    "# Question 3: Format Manipulation\n",
    "greeting1 = 'Hello'\n",
    "greeting2 = input(greeting1 + ', what is your name? ')\n",
    "print(greeting1 + ' ' + greeting2)\n",
    "\n",
    "# Greeting With Input and Output\n",
    "greeting3 = input(\"How is your day?('good' or 'bad') \")\n",
    "if greeting3 == 'good':\n",
    "    print('Nice!')\n",
    "else:\n",
    "    print('Thats not good')\n"
   ]
  }
 ],
 "metadata": {
  "kernelspec": {
   "display_name": "Python 3 (ipykernel)",
   "language": "python",
   "name": "python3"
  },
  "language_info": {
   "codemirror_mode": {
    "name": "ipython",
    "version": 3
   },
   "file_extension": ".py",
   "mimetype": "text/x-python",
   "name": "python",
   "nbconvert_exporter": "python",
   "pygments_lexer": "ipython3",
   "version": "3.11.6"
  }
 },
 "nbformat": 4,
 "nbformat_minor": 4
}
