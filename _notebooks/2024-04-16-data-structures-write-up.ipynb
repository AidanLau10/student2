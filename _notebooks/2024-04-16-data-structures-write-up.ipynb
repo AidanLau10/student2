{
 "cells": [
  {
   "cell_type": "markdown",
   "metadata": {},
   "source": [
    "---\n",
    "title: Data Structures Write Up\n",
    "comments: true\n",
    "hide: true\n",
    "layout: post\n",
    "courses: { labnb: {week: 30} }\n",
    "type: hacks\n",
    "---"
   ]
  },
  {
   "cell_type": "markdown",
   "metadata": {},
   "source": [
    "# Collections\n",
    "\n",
    "- From VSCode using SQLite3 Editor, show your unique collection/table in database, display rows and columns in the table of the SQLite database.\n",
    "\n",
    "![Applications Table](../../../images/TableApplications.png)\n",
    "![Jobs Table](../../../images/TableJobs.png)\n",
    "![Jobs/Users Table](../../../images/TableJobsUsers.png)\n",
    "\n",
    "\n",
    "- From VSCode model, show your unique code that was created to initialize table and create test data.\n",
    "\n",
    "![Initiation of Application Test Data](../../../images/TableinitApplications.png)\n",
    "![Initiation of Jobs Test Data](../../../images/tableinitJobs.png)\n",
    "![Initiation of Jobs/Users Relationship Test Data](../../../images/tableinitJobsUsers.png)\n"
   ]
  },
  {
   "cell_type": "markdown",
   "metadata": {},
   "source": [
    "# Lists and Dictionaries\n",
    "\n",
    "- In VSCode using Debugger, show a list as extracted from database as Python objects.\n",
    "![Jobs Breakpoint](../../../images/ListsJobsBreakpoint.png)\n",
    "- In VSCode use Debugger and list, show two distinct example examples of dictionaries, show Keys/Values using debugger.\n",
    "![Job Object](../../../images/ListsJobObject.png)\n",
    "![Jobs Output](../../../images/ListsJobsOutput.png)\n",
    "\n",
    "- Job and User Relationship\n",
    "![JobsUsers Breakpoint](../../../images/ListsJobUserBreakpoint.png)\n",
    "![JobsUsers Object](../../../images/ListsJobUserObject.png)\n",
    "![Applicant](../../../images/ListsApplicant.png)"
   ]
  },
  {
   "cell_type": "markdown",
   "metadata": {},
   "source": [
    "# APIs and JSON\n",
    "\n",
    "- In VSCode, show Python API code definition for request and response using GET, POST, UPDATE methods. Discuss algorithmic condition used to direct request to appropriate Python method based on request method.\n",
    "![GET Code Definition](../../../images/APIgetcodedefinition.png)\n",
    "![POST Code Definition](../../../images/APIpostcodedefinition.png)\n",
    "![PUT Code Definition](../../../images/APIputcodedefinition.png)\n",
    "\n",
    "Method: The frontend hits an endpoint(http://127.0.0.1:8064/api/job/). In the definition of the API code, the endpoint is associated with a class and a function in the class associates with the method such as GET or POST. This will run the specific Python method based on the request method. \n",
    "\n",
    "- In VSCode, show algorithmic conditions used to validate data on a POST condition.\n",
    "![POST Code Definition](../../../images/APIpostcodedefinition.png)\n",
    "\n",
    "The code validates data on the POST condition by getting the body in JSON form and then creating the object. If it is unable to create the object because some data is wrong, it will send an error message.\n",
    "\n",
    "- In Postman, show URL request and Body requirements for GET, POST, and UPDATE methods.In Postman, show the JSON response data for 200 success conditions on GET, POST, and UPDATE methods.\n",
    "![Postman GET All Jobs](../../../images/APIgetPostman.png)\n",
    "![Postman GET Old Job Before PUT](../../../images/APIgetPostmanOldJob.png)\n",
    "![Postman GET Old Job After PUT](../../../images/APIgetPostmanUpdatedJob.png)\n",
    "![Postman PUT Body, Request, and Response](../../../images/APIputPostman.png)\n",
    "![Postman POST Body, Request, and Response](../../../images/APIsubmitapplication.png)\n",
    "- In Postman, show the JSON response for error for 400 when missing body on a POST request.\n",
    "![Postman Missing Body POST Error](../../../images/APIposterror.png)\n",
    "- In Postman, show the JSON response for error for 404 when providing an unknown user ID to a UPDATE request.\n",
    "![Postman PUT Error](../../../images/APIputerror.png)\n",
    "\n"
   ]
  },
  {
   "cell_type": "markdown",
   "metadata": {},
   "source": [
    "# Frontend\n",
    "\n",
    "- In Chrome inspect, show response of JSON objects from fetch of GET, POST, and UPDATE methods.\n",
    "![Frontend Edit Job](../../../images/FrontendEditJob.png)\n",
    "![Frontend Get Jobs](../../../images/FrontendGetJobs.png)\n",
    "![Frontend Submit Application](../../../images/FrontendSubmitApplication.png)\n",
    "\n",
    "- In the Chrome browser, show a demo (GET) of obtaining an Array of JSON objects that are formatted into the browsers screen.\n",
    "    ![Frontend Jobs](../../../images/FrontendJobs.png)\n",
    "    - In JavaScript code, describe fetch and method that obtained the Array of JSON objects.\n",
    "    - In JavaScript code, show code that performs iteration and formatting of data into HTML.\n",
    "    ![Frontend Fetch Data](../../../images/FrontendFetchData.png)\n",
    "- In the Chrome browser, show a demo (POST or UPDATE) gathering and sending input and receiving a response that show update. Repeat this demo showing both success and failure.\n",
    "    ![Frontend Login Code](../../../images/FrontendLoginCode.png)\n",
    "    - In JavaScript code, show and describe code that handles success. Describe how code shows success to the user in the Chrome Browser screen.\n",
    "    ![Frontend Successful Login](../../../images/FrontendSuccessfulLogin.png)   \n",
    "    - In JavaScript code, show and describe code that handles failure. Describe how the code shows failure to the user in the Chrome Browser screen.\n",
    "    ![Frontend Error Login](../../../images/FrontendErrorLogin.png)\n"
   ]
  }
 ],
 "metadata": {
  "kernelspec": {
   "display_name": "Python 3",
   "language": "python",
   "name": "python3"
  },
  "language_info": {
   "codemirror_mode": {
    "name": "ipython",
    "version": 3
   },
   "file_extension": ".py",
   "mimetype": "text/x-python",
   "name": "python",
   "nbconvert_exporter": "python",
   "pygments_lexer": "ipython3",
   "version": "3.11.7"
  },
  "orig_nbformat": 4
 },
 "nbformat": 4,
 "nbformat_minor": 2
}
