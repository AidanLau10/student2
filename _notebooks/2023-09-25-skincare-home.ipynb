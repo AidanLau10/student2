{
 "cells": [
  {
   "cell_type": "markdown",
   "metadata": {},
   "source": [
    "---\n",
    "title: Skincare Home\n",
    "comments: true\n",
    "hide: true\n",
    "layout: post\n",
    "courses: { labnb: {week: 6} }\n",
    "type: hacks\n",
    "permalink: /skincare/home\n",
    "---"
   ]
  },
  {
   "cell_type": "raw",
   "metadata": {},
   "source": [
    "{% include nav_skincare.html %}"
   ]
  },
  {
   "cell_type": "raw",
   "metadata": {},
   "source": [
    "<head>\n",
    "  <title>Skincare Home</title>\n",
    "  <link rel=\"stylesheet\" href=\"/student2/assets/css/skincare-home.css\">\n",
    "</head>\n",
    "\n",
    "<body>\n",
    "  <div>\n",
    "    <h1>Skincare Homepage</h1>\n",
    "    <p>Navigate to the different tabs to see skincare ingredients to look out for, skincare products, and a skincare\n",
    "      routine</p>\n",
    "  </div>\n",
    "\n",
    "  <div style=\"height: 600px\">\n",
    "    \n",
    "    <div class=\"skincare-gallery\">\n",
    "      <a href=\"{{site.baseurl}}/skincare/products\">\n",
    "        <img src=\"/student2/images/skincare-products.jpeg\" alt=\"Skincare Products\" width=\"600\" height=\"400\">\n",
    "      </a>\n",
    "      <div class=\"skincare-desc\">Here are some recommendations of the best skincare products.</div>\n",
    "    </div>\n",
    "\n",
    "    <div class=\"skincare-gallery\">\n",
    "      <a href=\"{{site.baseurl}}/skincare/ingredients\">\n",
    "        <img src=\"/student2/images/skincare-ingredients.jpeg\" alt=\"Skincare Ingredients\" width=\"600\" height=\"400\">\n",
    "      </a>\n",
    "      <div class=\"skincare-desc\">Learn about which skincare ingredients to look out for and which ingredients to avoid.\n",
    "      </div>\n",
    "    </div>\n",
    "\n",
    "    <div class=\"skincare-gallery\">\n",
    "      <a href=\"{{site.baseurl}}/skincare/routine\">\n",
    "        <img src=\"/student2/images/skincare-routine.jpeg\" alt=\"Skincare Routine\" width=\"600\" height=\"400\">\n",
    "      </a>\n",
    "      <div class=\"skincare-desc\">Learn about the ideal skincare routine for day and night.</div>\n",
    "    </div>\n",
    "  </div>\n",
    "\n",
    "</body>"
   ]
  }
 ],
 "metadata": {
  "language_info": {
   "name": "python"
  },
  "orig_nbformat": 4
 },
 "nbformat": 4,
 "nbformat_minor": 2
}
