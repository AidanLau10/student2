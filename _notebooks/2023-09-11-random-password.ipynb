{
 "cells": [
  {
   "cell_type": "markdown",
   "metadata": {},
   "source": [
    "---\n",
    "title: Random Password Generator\n",
    "comments: true\n",
    "hide: true\n",
    "layout: default\n",
    "description: Python code to generate a random password\n",
    "categories: [C7.0]\n",
    "courses: { labnb: {week: 3} }\n",
    "type: hacks\n",
    "---"
   ]
  },
  {
   "cell_type": "raw",
   "metadata": {},
   "source": [
    "<html>\n",
    "  <head>\n",
    "    <link rel=\"stylesheet\" href=\"https://pyscript.net/latest/pyscript.css\" />\n",
    "    <script defer src=\"https://pyscript.net/latest/pyscript.js\"></script>\n",
    "  </head>\n",
    "  <body>\n",
    "    <py-script src=\"/student/random-password.py\"></py-script>\n",
    "    \n",
    "  </body>\n",
    "\n",
    "</html>"
   ]
  }
 ],
 "metadata": {
  "language_info": {
   "name": "python"
  },
  "orig_nbformat": 4
 },
 "nbformat": 4,
 "nbformat_minor": 2
}
