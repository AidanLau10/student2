{
 "cells": [
  {
   "cell_type": "markdown",
   "metadata": {},
   "source": [
    "---\n",
    "title: Skincare Routine\n",
    "comments: true\n",
    "hide: true\n",
    "layout: post\n",
    "permalink: /skincare/routine\n",
    "---"
   ]
  },
  {
   "cell_type": "raw",
   "metadata": {},
   "source": [
    "{% include nav_routine.html %}"
   ]
  },
  {
   "cell_type": "raw",
   "metadata": {},
   "source": [
    "<link rel=\"stylesheet\" href=\"skincare-light-dark.css\">\n",
    "<p>Click on the icon to the very right of the navigation bar to see the order you should apply your skincare products during the day and night.</p>\n",
    "<p id=\"day-routine\">Day Routine</p>\n",
    "<img src=\"/student/images/skincare-day.jpg\" class=\"responsive\" id=\"skincare-day\">"
   ]
  }
 ],
 "metadata": {
  "kernelspec": {
   "display_name": "Python 3",
   "language": "python",
   "name": "python3"
  },
  "language_info": {
   "codemirror_mode": {
    "name": "ipython",
    "version": 3
   },
   "file_extension": ".py",
   "mimetype": "text/x-python",
   "name": "python",
   "nbconvert_exporter": "python",
   "pygments_lexer": "ipython3",
   "version": "3.11.6"
  },
  "orig_nbformat": 4
 },
 "nbformat": 4,
 "nbformat_minor": 2
}
