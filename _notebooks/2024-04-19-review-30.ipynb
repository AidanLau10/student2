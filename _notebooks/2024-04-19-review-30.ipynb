{
 "cells": [
  {
   "cell_type": "markdown",
   "metadata": {},
   "source": [
    "---\n",
    "title: Review of Week 30\n",
    "comments: true\n",
    "hide: true\n",
    "layout: post\n",
    "description: A review of what happened this week.\n",
    "courses: { labnb: {week: 30} }\n",
    "type: tangibles\n",
    "---"
   ]
  }
 ],
 "metadata": {
  "language_info": {
   "name": "python"
  },
  "orig_nbformat": 4
 },
 "nbformat": 4,
 "nbformat_minor": 2
}
