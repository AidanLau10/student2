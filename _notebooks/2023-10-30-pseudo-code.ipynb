{
 "cells": [
  {
   "cell_type": "markdown",
   "metadata": {},
   "source": [
    "---\n",
    "title: Pseudo Code Notes\n",
    "comments: true\n",
    "hide: true\n",
    "layout: post\n",
    "description: Notes on AP Pseudo Code\n",
    "courses: { labnb: {week: 11} }\n",
    "type: hacks\n",
    "---"
   ]
  },
  {
   "cell_type": "markdown",
   "metadata": {},
   "source": [
    "# Pseudo Code Notes\n",
    "\n",
    "## First thoughts\n",
    "- Pseudo code is very readable\n",
    "- The arrows kind of throw me off when assigning variables\n",
    "- I really like the blocks that separate the code segments\n",
    "\n",
    "## Usage\n",
    "- Assing variables values using arrows\n",
    "- Loops use \"Repeat Until\"\n",
    "- If and if else statements are the same as python\n",
    "- MOD is modulo and returns the remainder when dividing two numbers\n",
    "\n",
    "## Example 1\n",
    "![Example 1](../../../images/example1.png)\n",
    "- Program A and B are the same except for the order that the function body occurs in.\n",
    "    - Program A displays i before it prints it\n",
    "    - Program B displays i after it prints it"
   ]
  },
  {
   "cell_type": "markdown",
   "metadata": {},
   "source": [
    "## Example 2\n",
    "![Example 2](../../../images/example2.png)\n",
    "![Example 2 Answer](../../../images/example2answer.png)\n",
    "- The random(1, 6) is like the random module in python\n",
    "- it uses two if statements for the two possibilities for yellow and blue, but every other possibility is red\n",
    "\n"
   ]
  },
  {
   "cell_type": "markdown",
   "metadata": {},
   "source": [
    "## Example 3\n",
    "![Example 3](../../../images/example3.png)\n",
    "![Example 3 Answer](../../../images/example3answer.png)\n",
    "- This answer is pretty intuitive\n",
    "    - You start at the first circle at (3,6). \n",
    "    - You use a repeat 3 times that will draw the circle with a radius of two and then add 2 to the x position and subtract 2 from the y position.\n"
   ]
  },
  {
   "cell_type": "markdown",
   "metadata": {},
   "source": [
    "## Example 4\n",
    "![Example 4](../../../images/example4.png)\n",
    "- Its important to look at the last if statement to check if the movie is in 3D. It simply checks if its True or False and will add 5 to the ticket price if it is\n",
    "- Now lets look at the "
   ]
  },
  {
   "cell_type": "markdown",
   "metadata": {},
   "source": [
    "## Example 5\n",
    "![Example 5](../../../images/example5.png)\n",
    "- I was pretty confused on this question, particularly for the return section\n",
    "- After reviewing, it is returning a statement that is comparing itself only if it is true. So if counter is greater than half of the total, then return it, but if not, then dont."
   ]
  },
  {
   "cell_type": "markdown",
   "metadata": {},
   "source": [
    "## Example 6\n",
    "![Example 6](../../../images/example6.png)\n",
    "- This question seems time-consuming and complicated, but you need to start from the end and go backwards\n",
    "- If you check how it ends, includes can either be true or false so there has to be in an or statement in the answer"
   ]
  },
  {
   "cell_type": "markdown",
   "metadata": {},
   "source": [
    "## Example 7\n",
    "![Example 7](../../../images/example7.png)\n",
    "- The main focus of this question is the MOD\n",
    "- MOD means modulo which will return the remainder of the divison of two numbers\n",
    "- So if they're trying to calculate every 10th purchase, use modulo because if the purcahse is the 10th, it will return a remainder of 0 when divided by 10"
   ]
  },
  {
   "cell_type": "markdown",
   "metadata": {},
   "source": [
    "## Example 8\n",
    "![Example 8](../../../images/example8.png)\n",
    "- This question was kind of tedious\n",
    "- It was more of a guess and check\n",
    "- I took two numbers, 50 and 35, and ran through every answer. Answer C was the most reasonable"
   ]
  }
 ],
 "metadata": {
  "kernelspec": {
   "display_name": "Python 3",
   "language": "python",
   "name": "python3"
  },
  "language_info": {
   "name": "python",
   "version": "3.11.6"
  },
  "orig_nbformat": 4
 },
 "nbformat": 4,
 "nbformat_minor": 2
}
