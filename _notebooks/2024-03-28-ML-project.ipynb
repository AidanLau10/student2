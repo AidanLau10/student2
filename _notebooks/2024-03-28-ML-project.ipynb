{
 "cells": [
  {
   "attachments": {},
   "cell_type": "markdown",
   "metadata": {},
   "source": [
    "---\n",
    "layout: post\n",
    "title: Employment Predictor ML Project\n",
    "\n",
    "courses: { labnb: {week: 28} }\n",
    "type: hacks\n",
    "---"
   ]
  },
  {
   "cell_type": "markdown",
   "metadata": {},
   "source": [
    "# Overview\n",
    "\n",
    "- My project is an employment predictor which takes inputs such as the applicant's education level, employment, gender, years coded, and years coded pro and predicts if they will get the job or not. The model is built on job applicant data from 70,000 people and if they were accepted or not. These jobs were software/computer science related. This relates to my CPT project which was a job finder that connected freelancer and employers because it predicts if that person will get the job or not."
   ]
  },
  {
   "cell_type": "markdown",
   "metadata": {},
   "source": [
    "# CSV Data\n",
    "![CSV Data](../../../images/ML_csv.png)\n",
    "\n",
    "- This is an example of what the CSV data looks like. There are some categories that are dropped like age, accessibliy, mainbranch, mentalhealth, country, previoussalary, hvaeworkedwith, and computerskills because they are specific categories that affect the end prediction only a little."
   ]
  },
  {
   "cell_type": "markdown",
   "metadata": {},
   "source": [
    "# Init\n",
    "![Init](../../../images/ML_init.png)\n",
    "\n",
    "- The init constructor initializes the dataset by reading the csv, cleaning the data by dropping unnecessary columns, transforming string columns to binary which makes it readable for the computer, and training the dataset with Employed as the target. "
   ]
  },
  {
   "cell_type": "markdown",
   "metadata": {},
   "source": [
    "# Predict Job Function\n",
    "![Predict](../../../images/ML_predict.png)\n",
    "\n",
    "- Since the model is already trained in the initilization, the predict job function will clean the data and predict the probability that the applicant will get the job or not."
   ]
  },
  {
   "cell_type": "markdown",
   "metadata": {},
   "source": [
    "# API\n",
    "![API](../../../images/ML_post.png)\n",
    "\n",
    "- The post method is apart of the API which takes the data from the frontend and calls the predict_job function explained above. "
   ]
  },
  {
   "cell_type": "markdown",
   "metadata": {},
   "source": [
    "# Resource\n",
    "![Resource](../../../images/ML_resource.png)\n",
    "\n",
    "- This adds the api resource so that the frontend can call it when fetching"
   ]
  }
 ],
 "metadata": {
  "kernelspec": {
   "display_name": "base",
   "language": "python",
   "name": "python3"
  },
  "language_info": {
   "codemirror_mode": {
    "name": "ipython",
    "version": 3
   },
   "file_extension": ".py",
   "mimetype": "text/x-python",
   "name": "python",
   "nbconvert_exporter": "python",
   "pygments_lexer": "ipython3",
   "version": "3.11.7"
  },
  "orig_nbformat": 4
 },
 "nbformat": 4,
 "nbformat_minor": 2
}
