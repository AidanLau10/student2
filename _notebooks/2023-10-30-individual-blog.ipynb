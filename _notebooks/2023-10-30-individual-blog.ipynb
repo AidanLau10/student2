{
 "cells": [
  {
   "cell_type": "markdown",
   "metadata": {},
   "source": [
    "---\n",
    "title: Individual Blog\n",
    "comments: true\n",
    "hide: true\n",
    "layout: post\n",
    "description: Notes on what I did during the passion project\n",
    "courses: { labnb: {week: 11} }\n",
    "type: hacks\n",
    "---"
   ]
  },
  {
   "cell_type": "markdown",
   "metadata": {},
   "source": [
    "# AWS Deployment\n",
    "- Here is our deployed backend on AWS\n",
    "[Study Buddy](https://studybuddy.stu.nighthawkcodingsociety.com/)\n",
    "- Here is the API endpoint using Python Flask to display JSON data that the frontend can fetch to display\n",
    "[Study Buddy](https://studybuddy.stu.nighthawkcodingsociety.com/api/data)\n",
    "\n",
    "- I deployed our backend on AWS by:\n",
    "    - Creating a domain name in Route 53\n",
    "    - Testing our site locally using Docker\n",
    "    - Creating a directory in the Ubuntu terminal  \n",
    "    - Git cloning our live site in our personal directory\n",
    "    - Setting up proxy to our domain using Nginx\n",
    "    - Using certbot to get certificate for https\n",
    "- I update our live site by:\n",
    "    - Committing our changes to Github\n",
    "    - Moving into the right directory in Ubuntu terminal \n",
    "    - Git pulling in the Ubuntu terminal for updated changes\n",
    "    - Curling our local site in Ubuntu terminal to review changes\n",
    "    - Rebuilding docker"
   ]
  },
  {
   "cell_type": "markdown",
   "metadata": {},
   "source": [
    "# Python Dictionary Data\n",
    "- Created static and fixed data in Python Flask that frontend can fetch and display\n",
    "- If you type visit the [api endpoint](https://studybuddy.stu.nighthawkcodingsociety.com/api/data), you can view the JSON data"
   ]
  },
  {
   "cell_type": "code",
   "execution_count": null,
   "metadata": {},
   "outputs": [],
   "source": [
    "# api endpoint\n",
    "@app.route('/api/data')\n",
    "def get_data():\n",
    "    # start a list, to be used like a information database\n",
    "    user_classes = []\n",
    "\n",
    "    # add a row to list\n",
    "    user_classes.append({\n",
    "        \"user_id\": 10000,\n",
    "        \"user_name\": \"Aidan Lau\",\n",
    "        \"classes\": ['AP CSP, Chinese, AP Calc, English, AP Bio'],\n",
    "        \"GPA\": \"3.9\",\n",
    "        \"ap_count\": \"3\",\n",
    "    })\n",
    "\n",
    "    user_classes.append({\n",
    "        \"user_id\":10001,\n",
    "        \"user_name\": \"Rayyan Darugar\",\n",
    "        \"classes\": [\"AP CSP, Claszs2, Class3, Class4, Class5\"],\n",
    "        \"GPA\": \"TBA\",\n",
    "        \"ap_count\": \"TBA\",\n",
    "    })\n",
    "    \n",
    "    user_classes.append({\n",
    "        \"user_id\": 10002,\n",
    "        \"user_name\": \"Daniel Choi\",\n",
    "        \"classes\": [\"AP CSP, Class2, Class3, Class4, Class5\"],\n",
    "        \"GPA\": \"TBA\",\n",
    "        \"ap_count\": \"TBA\",\n",
    "    })\n",
    "    \n",
    "    user_classes.append({\n",
    "        \"user_id\": 10002,\n",
    "        \"user_name\": \"Unknown Person\",\n",
    "        \"classes\": [\"AP CSP, Class2, Class3, Class4, Class5\"],\n",
    "        \"GPA\": \"TBA\",\n",
    "        \"ap_count\": \"TBA\",\n",
    "    })\n",
    "    \n",
    "    user_classes.append({\n",
    "        \"user_id\": 10002,\n",
    "        \"user_name\": \"Unknown Person\",\n",
    "        \"classes\": [\"AP CSP, Class2, Class3, Class4, Class5\"],\n",
    "        \"GPA\": \"TBA\",\n",
    "        \"ap_count\": \"TBA\",\n",
    "    })\n",
    "    \n",
    "    user_classes.append({\n",
    "        \"user_id\": 10002,\n",
    "        \"user_name\": \"Unknown Person\",\n",
    "        \"classes\": [\"AP CSP, Class2, Class3, Class4, Class5\"],\n",
    "        \"GPA\": \"TBA\",\n",
    "        \"ap_count\": \"TBA\",\n",
    "    })\n",
    "    \n",
    "    user_classes.append({\n",
    "        \"user_id\": 10002,\n",
    "        \"user_name\": \"Unknown Person\",\n",
    "        \"classes\": [\"AP CSP, Class2, Class3, Class4, Class5\"],\n",
    "        \"GPA\": \"TBA\",\n",
    "        \"ap_count\": \"TBA\",\n",
    "    })\n",
    "    \n",
    "    # jsonify the data\n",
    "    return jsonify(user_classes)"
   ]
  },
  {
   "cell_type": "markdown",
   "metadata": {},
   "source": [
    "# User Cards \n",
    "- I created User Profiles that save the information of different users using local storage, so what I saved for my local computer will not show up for external users unfortunately."
   ]
  },
  {
   "cell_type": "code",
   "execution_count": null,
   "metadata": {
    "vscode": {
     "languageId": "html"
    }
   },
   "outputs": [],
   "source": [
    "<!-- function that has aidan as an argument -->\n",
    "<a onClick=\"getUserData('aidan')\" href=\"#\">"
   ]
  },
  {
   "cell_type": "code",
   "execution_count": null,
   "metadata": {
    "vscode": {
     "languageId": "javascript"
    }
   },
   "outputs": [],
   "source": [
    "// this is the function that runs when clicked in the html\n",
    "function getUserData(user) {\n",
    "    console.log(user);\n",
    "    // if statement to prevent the value of events from being null\n",
    "    if (localStorage.getItem(user)) {\n",
    "        // key value pair where the value of events is set to the last known user data in local storage \n",
    "        localStorage.setItem('events', localStorage.getItem(user)) \n",
    "    }\n",
    "\n",
    "    // keep track of who the active or current user is\n",
    "    localStorage.setItem('currentUser', user)\n",
    "    // because the URL in the original HTML a tag was blank, set the location here\n",
    "    window.location = \"{{site.baseurl}}//usercalender\"\n",
    "}\n",
    "\n",
    "\n",
    "window.addEventListener('beforeunload', function( event ) {\n",
    "    console.log('finished')\n",
    "});"
   ]
  },
  {
   "cell_type": "code",
   "execution_count": null,
   "metadata": {
    "vscode": {
     "languageId": "javascript"
    }
   },
   "outputs": [],
   "source": [
    "// function to save events in local storage\n",
    "function saveEvents() {\n",
    "  // set the value of events to the data of whatever the user inputted to the calender\n",
    "    localStorage.setItem(\"events\", JSON.stringify(eventsArr));\n",
    "    // set the value of the current user(could be aidan, daniel, nathan, rayyan) \n",
    "    // just whoever the current user is, set the value to what the user inputted to the calender\n",
    "    localStorage.setItem(localStorage.getItem('currentUser'), JSON.stringify(eventsArr))\n",
    "  }"
   ]
  }
 ],
 "metadata": {
  "kernelspec": {
   "display_name": "Python 3",
   "language": "python",
   "name": "python3"
  },
  "language_info": {
   "name": "python",
   "version": "3.11.6"
  },
  "orig_nbformat": 4
 },
 "nbformat": 4,
 "nbformat_minor": 2
}
