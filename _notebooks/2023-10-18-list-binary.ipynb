{
 "cells": [
  {
   "cell_type": "markdown",
   "metadata": {},
   "source": [
    "---\n",
    "comments: true\n",
    "layout: post\n",
    "title: P1 List and Binary Search\n",
    "description: student2 Teaching List and Binary Search\n",
    "courses: { labnb: {week: 9} }\n",
    "type: hacks\n",
    "---"
   ]
  },
  {
   "cell_type": "markdown",
   "metadata": {},
   "source": [
    "Here is a java snippet that I worked on before for a 2D array that uses a linear search to find the index of a specific number"
   ]
  },
  {
   "cell_type": "code",
   "execution_count": null,
   "metadata": {
    "vscode": {
     "languageId": "javascript"
    }
   },
   "outputs": [],
   "source": [
    "import java.util.Arrays;\n",
    " \n",
    "public class Array {\n",
    "    public static void main(String[] args) {\n",
    "        int arr[][] = { { 0, 2, 0, 0, 0, 0, 0 },\n",
    "                        { 0, 1, 0, 0, 1, 1, 3 },\n",
    "                        { 0, 1, 1, 1, 1, 0, 0 },\n",
    "                        { 0, 0, 0, 0, 0, 0, 0 } };\n",
    "        int target = 2;\n",
    "        int ans[] = linearSearch(arr, target);\n",
    "        System.out.println(\"Element found at index: \"\n",
    "                           + Arrays.toString(ans));\n",
    "    }\n",
    " \n",
    "    public static int[] linearSearch(int[][] arr, int target) {\n",
    "        for (int i = 0; i < arr.length; i++) {\n",
    "            for (int j = 0; j < arr[i].length; j++) {\n",
    "                if (arr[i][j] == target) {\n",
    "                    return new int[] { i, j };\n",
    "                }\n",
    "            }\n",
    "        }\n",
    "        return new int[] { -1, -1 };\n",
    "    }\n",
    "}"
   ]
  },
  {
   "cell_type": "code",
   "execution_count": 5,
   "metadata": {},
   "outputs": [
    {
     "name": "stdout",
     "output_type": "stream",
     "text": [
      "2\n",
      "[1, 2, 3, 4, 5, 6, 8, 9, 10, 99999, 11]\n",
      "[1, 2, 3, 4, 5, 6, 7, 8, 9, 10, 99999, 11]\n",
      "[1, 2, 3, 4, 5, 6, 7, 8, 9, 10, 11]\n"
     ]
    }
   ],
   "source": [
    "list = [1,2,3,4,5,6,8,9,10,99999]\n",
    "\n",
    "# print the first index(zero based counting)\n",
    "print(list[1])\n",
    "# add 11 to the end of the list\n",
    "list.append(11)\n",
    "print(list)\n",
    "# insert a number into a certain index of the list\n",
    "list.insert(6, 7)\n",
    "print(list)\n",
    "# remove a number from the list\n",
    "list.remove(99999)\n",
    "print(list)\n",
    "\n",
    "\n"
   ]
  },
  {
   "cell_type": "code",
   "execution_count": 7,
   "metadata": {},
   "outputs": [
    {
     "name": "stdout",
     "output_type": "stream",
     "text": [
      "[2, 3, 4, 5, 6, 7, 8, 9, 10]\n"
     ]
    }
   ],
   "source": [
    "list = [2, 2, 3, 3, 4, 4, 5, 5, 6, 6, 7, 7, 8, 8, 9, 9, 10, 10]\n",
    "\n",
    "# create a new list so that the for loop can append the non duplicates here\n",
    "list_duplicates = []\n",
    "# for loop for every number in list\n",
    "for item in list:\n",
    "    # since nothing in the empty list, add the number from the duplicate list to the empty list\n",
    "    # it wont add the same number because once it adds the first number it will not satisfy the condition\n",
    "    if item not in list_duplicates:\n",
    "        list_duplicates.append(item)\n",
    "\n",
    "print(list_duplicates)\n"
   ]
  },
  {
   "cell_type": "code",
   "execution_count": 9,
   "metadata": {},
   "outputs": [
    {
     "name": "stdout",
     "output_type": "stream",
     "text": [
      "5\n"
     ]
    }
   ],
   "source": [
    "import math\n",
    "\n",
    "# function for calculating the worst case iteration that takes array_length as a parameter\n",
    "def worst_case_iterations(array_length):\n",
    "    # whatever the array length is, find log 2 of it and round up\n",
    "    return math.ceil(math.log2(array_length))\n",
    "\n",
    "# defines the array_length variable we want to find\n",
    "array_length = 20\n",
    "worst_case_iterations_count = worst_case_iterations(array_length)\n",
    "print(worst_case_iterations_count)\n",
    "\n"
   ]
  },
  {
   "cell_type": "markdown",
   "metadata": {},
   "source": [
    "3) You have a list `myList` containing the following elements: [10, 20, 30, 40, 50].\n",
    "FOR i FROM 0 TO LENGTH(myList) {\n",
    "    x <- myList[i]\n",
    "    myList[i] <- x * 2\n",
    "}\n",
    "What will be the final content of `myList` after executing this algorithm?\n",
    "A) [20, 40, 60, 80, 100]\n",
    "B) [10, 20, 30, 40, 50]\n",
    "C) [10, 40, 30, 20, 50]\n",
    "D) [50, 40, 30, 20, 10]\n",
    "submit on utterance\n",
    "\n",
    "The correct answer is A because the for loop goes through all the items in the list and multiples each item by 2."
   ]
  },
  {
   "cell_type": "markdown",
   "metadata": {},
   "source": [
    "## "
   ]
  }
 ],
 "metadata": {
  "kernelspec": {
   "display_name": "Python 3 (ipykernel)",
   "language": "python",
   "name": "python3"
  },
  "language_info": {
   "codemirror_mode": {
    "name": "ipython",
    "version": 3
   },
   "file_extension": ".py",
   "mimetype": "text/x-python",
   "name": "python",
   "nbconvert_exporter": "python",
   "pygments_lexer": "ipython3",
   "version": "3.11.6"
  }
 },
 "nbformat": 4,
 "nbformat_minor": 4
}
