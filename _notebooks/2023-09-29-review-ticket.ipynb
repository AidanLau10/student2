{
 "cells": [
  {
   "cell_type": "markdown",
   "metadata": {},
   "source": [
    "---\n",
    "title: Skincare Review Ticket\n",
    "comments: true\n",
    "hide: true\n",
    "layout: post\n",
    "description: A review of my skincare website.\n",
    "courses: { labnb: {week: 6} }\n",
    "type: hacks\n",
    "---"
   ]
  }
 ],
 "metadata": {
  "language_info": {
   "name": "python"
  },
  "orig_nbformat": 4
 },
 "nbformat": 4,
 "nbformat_minor": 2
}
