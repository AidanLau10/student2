{
 "cells": [
  {
   "cell_type": "markdown",
   "metadata": {},
   "source": [
    "---\n",
    "comments: true\n",
    "layout: post\n",
    "title: P1 Libraries\n",
    "description: student2 Teaching Libraries\n",
    "courses: { labnb: {week: 10} }\n",
    "type: hacks\n",
    "---"
   ]
  },
  {
   "cell_type": "code",
   "execution_count": 3,
   "metadata": {},
   "outputs": [
    {
     "name": "stdout",
     "output_type": "stream",
     "text": [
      "A game I play is Valorant. It was released in 2020. It is a FPS game.\n",
      "A game I play is Minecraft. It was released in 2011. It is a 3D Sandbox game.\n",
      "A game I play is Fortnite. It was released in 2017. It is a Battle Royale game.\n",
      "A game I play is Apex Legends. It was released in 2019. It is a Battle Royale game.\n"
     ]
    }
   ],
   "source": [
    "# Function not called procedural_abstraction but will take multiple parameters and\n",
    "# break the problem into separate pieces\n",
    "\n",
    "# class of games\n",
    "class games:\n",
    "    # default init method that takes 4 parameters\n",
    "    def __init__(self,name,release_date,type):\n",
    "        # like javascript's \"this\". will inherit the values of parameters when they are called as arguments\n",
    "        self.name = name\n",
    "        self.release_date = release_date\n",
    "        self.type = type\n",
    "    # function to print out information   \n",
    "    def information(self):\n",
    "        print('A game I play is ' + self.name + '. It was released in ' + str(self.release_date) + '. It is a ' + self.type + ' game.')\n",
    "\n",
    "# call the class and pass in parameters as arguments\n",
    "minecraft = games('Minecraft', 2011, '3D Sandbox')\n",
    "valorant = games('Valorant', 2020, 'FPS')\n",
    "fortnite = games('Fortnite', 2017, 'Battle Royale')\n",
    "apexLegends = games('Apex Legends', 2019, 'Battle Royale')\n",
    "# use information function to print out information\n",
    "valorant.information()\n",
    "minecraft.information()\n",
    "fortnite.information()\n",
    "apexLegends.information()\n",
    "\n",
    "\n"
   ]
  },
  {
   "cell_type": "code",
   "execution_count": 4,
   "metadata": {},
   "outputs": [
    {
     "name": "stdout",
     "output_type": "stream",
     "text": [
      "12\n"
     ]
    }
   ],
   "source": [
    "# function called summing machine that takes first number and second number as a parameter\n",
    "def summing_machine(first_number, second_number):\n",
    "    # return the sum of the parameters and exit the function\n",
    "    return first_number + second_number\n",
    "\n",
    "# create a variable that passes 7 and 5 into the summing machine function and print it\n",
    "sum = summing_machine(7,5)\n",
    "print(sum)"
   ]
  }
 ],
 "metadata": {
  "kernelspec": {
   "display_name": "Python 3",
   "language": "python",
   "name": "python3"
  },
  "language_info": {
   "codemirror_mode": {
    "name": "ipython",
    "version": 3
   },
   "file_extension": ".py",
   "mimetype": "text/x-python",
   "name": "python",
   "nbconvert_exporter": "python",
   "pygments_lexer": "ipython3",
   "version": "3.11.6"
  },
  "orig_nbformat": 4
 },
 "nbformat": 4,
 "nbformat_minor": 2
}
