{
 "cells": [
  {
   "cell_type": "markdown",
   "metadata": {},
   "source": [
    "---\n",
    "title: CPT Planning\n",
    "comments: true\n",
    "hide: true\n",
    "layout: post\n",
    "description: Here is the planning process for our CPT project\n",
    "courses: { labnb: {week: 22} }\n",
    "type: hacks\n",
    "---"
   ]
  },
  {
   "cell_type": "markdown",
   "metadata": {},
   "source": [
    "- Here is the planning process and design of our CPT project\n",
    "\n",
    "<h1>Our project is a job finder where freelancers who look for jobs can apply to jobs posted from employers. Basically, we are the middleman/bridge between freelancers and employers. Our features are a job displayer where they can be filtered, a job poster and applyer, and a job profile.</h1>\n",
    "\n",
    "![Jobly Homepage](../../../images/jobly.png)\n",
    "![Jobly Homepage](../../../images/hoomepage.png)\n",
    "\n",
    "- <h1>The idea of our home page was to have a large search feature so that the users can provide their input. Furthermore, we wanted to add different categories/industries to fit users' needs.</h1>\n",
    "\n",
    "![Jobly Jobs List](../../../images/joblyDisplay.png)\n",
    "\n",
    "- <h1>We wanted a page specific to show jobs that had filters for specific industries. We wanted to include information about jobs like their title, description, field, location, qualification and pay. We also wanted users who wanted to apply to these jobs to click the view button for more information.</h1>\n",
    "\n",
    "![Jobly Post Job](../../../images/joblyPost.png)\n",
    "\n",
    "- <h1>We wanted to add a job posting page exclusive for employers that would allow them to add their own job to the database so that other users can apply to them.</h1>\n",
    "\n",
    "![Jobly draw.io UML Class Diagram](../../../images/joblydrawIO.png)\n",
    "\n",
    "- <h1>This is the UML Class Diagram that we made for the classes in our database. Each column represents a piece of data we want to show for each table and they have relaionships for each other.</h1>"
   ]
  }
 ],
 "metadata": {
  "language_info": {
   "name": "python"
  },
  "orig_nbformat": 4
 },
 "nbformat": 4,
 "nbformat_minor": 2
}
