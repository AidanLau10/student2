{
 "cells": [
  {
   "cell_type": "markdown",
   "metadata": {},
   "source": [
    "---\n",
    "comments: true\n",
    "layout: post\n",
    "title: P1 Boolean If\n",
    "description: student2 Teaching Boolean If Homework\n",
    "courses: { labnb: {week: 8} }\n",
    "type: hacks\n",
    "---"
   ]
  },
  {
   "cell_type": "code",
   "execution_count": 6,
   "metadata": {},
   "outputs": [
    {
     "name": "stdout",
     "output_type": "stream",
     "text": [
      "You can't vote!\n"
     ]
    }
   ],
   "source": [
    "# Problem 1\n",
    "\n",
    "# gets user input for how old they are. converts it to an integer because input is \n",
    "# defaulted as a string\n",
    "userAge =  int(input(\"How old are you? \"))\n",
    "# gets user input to see if they are a U.S. citizen or not\n",
    "userCitizen = input(\"Are you a U.S. citizen?('yes' or 'no') \")\n",
    "\n",
    "# if else statement to check if the user is 18 or older and if they are a U.S. citizen\n",
    "# if both are true, print you can vote\n",
    "# if one of them isnt true, print you cant vote\n",
    "if (userAge >= 18 and userCitizen == 'yes'):\n",
    "    print('You can vote!')\n",
    "else:\n",
    "    print(\"You can't vote!\")"
   ]
  },
  {
   "cell_type": "code",
   "execution_count": 10,
   "metadata": {},
   "outputs": [
    {
     "name": "stdout",
     "output_type": "stream",
     "text": [
      "You have a $4500.0 bonus.\n"
     ]
    }
   ],
   "source": [
    "# Problem 2\n",
    "\n",
    "# gets user input for what their yearly income is and converts it to an integer \n",
    "# for calculation\n",
    "userSalary = int(input(\"What is your yearly income?(no '$' sign) \"))\n",
    "# gets user input for how many years they served and converts it to an integer\n",
    "# for the if else statement\n",
    "userYOS = int(input(\"How many years have you served? \"))\n",
    "\n",
    "# if else statement to check if the user served more than 5 years\n",
    "# if served more than 5 years, give them a 5% bonus to their salary\n",
    "# if didn't serve more than 5 years, don't give them a bonus\n",
    "if userYOS > 5:\n",
    "    # calculates the bonus to the salary\n",
    "    userBonus = userSalary * 0.05\n",
    "    # converts userBonus back to a string for string concatenation\n",
    "    print('You have a $' + str(userBonus) + ' bonus.')\n",
    "else:\n",
    "    print(\"You don't qualify for a bonus.\")\n",
    "    "
   ]
  },
  {
   "cell_type": "code",
   "execution_count": 14,
   "metadata": {},
   "outputs": [
    {
     "name": "stdout",
     "output_type": "stream",
     "text": [
      "You have an A\n"
     ]
    }
   ],
   "source": [
    "# Problem 3\n",
    "\n",
    "# gets user input for their grade and converts it to an integer for the if else statement\n",
    "userGrade = int(input(\"What is your grade percentage? (not grade letter and dont use percent) \"))\n",
    "\n",
    "# if else statements to check what percent the user's grade percentage is and what their grade is\n",
    "if userGrade > 80:\n",
    "    print('You have an A')\n",
    "elif userGrade <= 80 and userGrade > 60:\n",
    "    print('You have a B')\n",
    "elif userGrade <= 60 and userGrade > 50:\n",
    "    print('You have a C')\n",
    "elif userGrade <= 50 and userGrade > 45:\n",
    "    print('You have a D')\n",
    "elif userGrade <= 45 and userGrade > 25:\n",
    "    print('You have a E')\n",
    "else:\n",
    "    print('You have an F')\n",
    "        "
   ]
  },
  {
   "cell_type": "markdown",
   "metadata": {},
   "source": [
    "## "
   ]
  }
 ],
 "metadata": {
  "kernelspec": {
   "display_name": "Python 3 (ipykernel)",
   "language": "python",
   "name": "python3"
  },
  "language_info": {
   "codemirror_mode": {
    "name": "ipython",
    "version": 3
   },
   "file_extension": ".py",
   "mimetype": "text/x-python",
   "name": "python",
   "nbconvert_exporter": "python",
   "pygments_lexer": "ipython3",
   "version": "3.11.6"
  }
 },
 "nbformat": 4,
 "nbformat_minor": 4
}
