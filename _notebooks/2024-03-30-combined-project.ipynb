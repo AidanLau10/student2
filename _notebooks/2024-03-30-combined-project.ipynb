{
 "cells": [
  {
   "attachments": {},
   "cell_type": "markdown",
   "metadata": {},
   "source": [
    "---\n",
    "layout: post\n",
    "title: Combined CPT Project\n",
    "courses: { labnb: {week: 29} }\n",
    "type: hacks\n",
    "---"
   ]
  },
  {
   "cell_type": "markdown",
   "metadata": {},
   "source": [
    "![Add Job](../../../images/combinedAddJob.png)\n",
    "![Display Jobs](../../../images/combinedDisplayJobs.png)\n",
    "\n",
    "- This is the page for employers to add jobs for freelancers to apply to. After filling out the details such as title, company, descripton, etc. The job will be posted and displayed on the jobs page. There are also filters for freelancers to choose which job they want to apply to such as fields, locations, and qualifications.\n",
    "\n",
    "![Apply Job](../../../images/combinedApplyJob.png)\n",
    "- This is the page that freelancers are brought to when they click to view a job. Details of the job are displayed in a clean format but it also shows have many users have applied to the job and it lets the user apply to the job\n",
    "![Apply Job Details](../../../images/combinedApplyJobDetails.png)\n",
    "- After clicking on the \"Apply For THe Job\" button, the user is asked to fill out more information about themself to let the employer know about their application and details.\n",
    "![Profile](../../../images/combinedProfile.png)\n",
    "- This is the profiling page which gets the token of the current user and checks their status, which is either a freelancer or employer. If you're a freelancer, you can see the job you applied to and your application and you can change the details of your application. In this case, the user is an employer so they can view the jobs they posted and can view the applicants or edit the details of their job.\n",
    "\n",
    "![View Applicant](../../../images/combinedViewApplicant.png)\n",
    "- It's important to view the applicants of your job to see if you have any interested freelancers and you can choose between which freelancer is the best fit for the job.\n",
    "![View Application](../../../images/combinedViewApplication.png)\n",
    "- The employer can take it a step further and even view the details of the freelancer's application so they see what's unique to them and can choose if they fit the job well.\n"
   ]
  }
 ],
 "metadata": {
  "kernelspec": {
   "display_name": "base",
   "language": "python",
   "name": "python3"
  },
  "language_info": {
   "codemirror_mode": {
    "name": "ipython",
    "version": 3
   },
   "file_extension": ".py",
   "mimetype": "text/x-python",
   "name": "python",
   "nbconvert_exporter": "python",
   "pygments_lexer": "ipython3",
   "version": "3.11.7"
  },
  "orig_nbformat": 4
 },
 "nbformat": 4,
 "nbformat_minor": 2
}
